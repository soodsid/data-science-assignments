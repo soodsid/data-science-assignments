{
 "cells": [
  {
   "cell_type": "code",
   "execution_count": null,
   "id": "fd6f658f",
   "metadata": {},
   "outputs": [],
   "source": [
    "What is the primary goal of Object-Oriented Programming (OOP)?\n",
    "\n",
    "The primary goal of Object-Oriented Programming (OOP) is to increase the flexibility and maintainability of a program by encapsulating data and behavior into objects. OOP is a programming paradigm that emphasizes the use of objects to represent and manipulate data, rather than using functions or procedures. OOP is based on the concept of classes and objects, which are used to organize and structure code. By using OOP, developers can create modular, reusable, and scalable code that is easier to understand, maintain, and extend."
   ]
  },
  {
   "cell_type": "code",
   "execution_count": null,
   "id": "943f0b54",
   "metadata": {},
   "outputs": [],
   "source": [
    "2. What is an object in Python?\n",
    "\n",
    "An object is an instance of a class, which is made on the according to the blueprint of the class.\n",
    "\n",
    "for eg:\n",
    "    \n",
    "class myhome:\n",
    "    def __init__(self,name):\n",
    "        self.Name=name\n",
    "\n",
    "house1=myhome('jannat')\n",
    "\n",
    "house1 is an object here"
   ]
  },
  {
   "cell_type": "code",
   "execution_count": null,
   "id": "2539274f",
   "metadata": {},
   "outputs": [],
   "source": [
    "What is a class in Python?\n",
    "\n",
    "A class is basically like a blueprint, it defines some attributed and method that an object of that class will have.\n",
    "\n",
    "for eg: \n",
    "class myhome:\n",
    "    def __init__(self,name):\n",
    "        self.Name=name\n",
    "\n",
    "myhome is a class here"
   ]
  },
  {
   "cell_type": "code",
   "execution_count": null,
   "id": "7eedaee2",
   "metadata": {},
   "outputs": [],
   "source": [
    "4. What are attributes and methods in a class?\n",
    "\n",
    "Attributes are variables that store data, while methods are functions that define the behavior of an object ."
   ]
  },
  {
   "cell_type": "code",
   "execution_count": null,
   "id": "4202ca58",
   "metadata": {},
   "outputs": [],
   "source": [
    "5. What is the difference between class variables and instance variables in Python?\n",
    "\n",
    "Class variables are shared across all instances of a class, while instance variables are unique to each instance of a class\n",
    "\n",
    "for eg:\n",
    "class cllass:\n",
    "    class_variable = 0\n",
    "\n",
    "    def __init__(self, instance_variable):\n",
    "        self.instance_variable = instance_variable"
   ]
  },
  {
   "cell_type": "code",
   "execution_count": null,
   "id": "76368cfb",
   "metadata": {},
   "outputs": [],
   "source": [
    "6. What is the purpose of the self parameter in Python class methods?\n",
    "\n",
    "the self parameter is used to refer to the instance of an object within a class. It is used to access the attributes and methods of that specific instance of the class"
   ]
  },
  {
   "cell_type": "code",
   "execution_count": null,
   "id": "1fdc768f",
   "metadata": {},
   "outputs": [],
   "source": [
    "7. For a library management system, you have to design the \"Book\" class with OOP\n",
    "principles in mind. The “Book” class will have following attributes:\n",
    "a. title: Represents the title of the book.\n",
    "b. author: Represents the author(s) of the book.\n",
    "c. isbn: Represents the ISBN (International Standard Book Number) of the book.\n",
    "d. publication_year: Represents the year of publication of the book.\n",
    "e. available_copies: Represents the number of copies available for checkout.\n",
    "The class will also include the following methods:\n",
    "a. check_out(self): Decrements the available copies by one if there are copies\n",
    "available for checkout.\n",
    "b. return_book(self): Increments the available copies by one when a book is\n",
    "returned.\n",
    "c. display_book_info(self): Displays the information about the book, including its\n",
    "attributes and the number of available copies."
   ]
  },
  {
   "cell_type": "code",
   "execution_count": null,
   "id": "bad49a32",
   "metadata": {},
   "outputs": [],
   "source": [
    "class Book:\n",
    "    def __init__(self, title, author, isbn, pubyear, availcop):\n",
    "        self.title=title\n",
    "        self.author=author\n",
    "        self.isbn=isbn\n",
    "        self.publication_year=pubyear\n",
    "        self.available_copies=availcop\n",
    "        \n",
    "    def check_out(self):\n",
    "        if (self.available_copies>0):\n",
    "            self.available_copies-=1\n",
    "            print(\"1 copy checked out\")\n",
    "        else:\n",
    "            print(\"no copies available\")\n",
    "    \n",
    "    def return_book(self):\n",
    "        self.available_copies+=1\n",
    "        print(\"1 copy added\")\n",
    "\n",
    "    def display_book_info(self):\n",
    "        print(\"The book name : \", self.title)\n",
    "        print(\"The book author : \", self.author)\n",
    "        print(\"The book ISBN : \", self.isbn)\n",
    "        print(\"The book publication year : \", self.publication_year)\n",
    "        print(\"Total copies available : \", self.available_copies)"
   ]
  },
  {
   "cell_type": "code",
   "execution_count": null,
   "id": "4bef4e6d",
   "metadata": {},
   "outputs": [],
   "source": [
    "8. For a ticket booking system, you have to design the \"Ticket\" class with OOP\n",
    "principles in mind. The “Ticket” class should have the following attributes:\n",
    "a. ticket_id: Represents the unique identifier for the ticket.\n",
    "b. event_name: Represents the name of the event.\n",
    "c. event_date: Represents the date of the event.\n",
    "d. venue: Represents the venue of the event.\n",
    "e. seat_number: Represents the seat number associated with the ticket.\n",
    "f. price: Represents the price of the ticket.\n",
    "g. is_reserved: Represents the reservation status of the ticket.\n",
    "The class also includes the following methods:\n",
    "a. reserve_ticket(self): Marks the ticket as reserved if it is not already reserved.\n",
    "b. cancel_reservation(self): Cancels the reservation of the ticket if it is already\n",
    "reserved.\n",
    "c. display_ticket_info(self): Displays the information about the ticket, including its\n",
    "attributes and reservation status."
   ]
  },
  {
   "cell_type": "code",
   "execution_count": null,
   "id": "d6d080b9",
   "metadata": {},
   "outputs": [],
   "source": [
    "class Ticket:\n",
    "    def __init__(self, ticid, eventn, eventd, ven, seat, price, isres):\n",
    "        self.ticket_id=ticid\n",
    "        self.event_name=eventn\n",
    "        self.event_date=eventd\n",
    "        self.venue=ven\n",
    "        self.seat_number=seat\n",
    "        self.price=price\n",
    "        self.is_reserved=isres\n",
    "        \n",
    "    def reserve_ticket(self):\n",
    "        if (self.is_reserved==0):\n",
    "            self.is_reserved=1\n",
    "            print(\"seat booked\")\n",
    "        else:\n",
    "            print(\"seat is alread book, cant book again\")\n",
    "    \n",
    "    def cancel_reservation(self):\n",
    "        self.is_reserved=0\n",
    "        print(\"seat cancelled\")\n",
    "\n",
    "    def display_ticket_info(self):\n",
    "        print(\"the unique identifier for the ticket : \", self.ticket_id)\n",
    "        print(\"the name of the event : \", self.event_name)\n",
    "        print(\"the date of the event : \", self.event_date)\n",
    "        print(\"the venue of the event : \", self.venue)\n",
    "        print(\"the seat number associated with the ticket : \", self.seat_number)\n",
    "        print(\"the price of the ticket : \", self.price)\n",
    "        print(\"the reservation status of the ticket : \", self.is_reserved)"
   ]
  },
  {
   "cell_type": "code",
   "execution_count": null,
   "id": "7662f576",
   "metadata": {},
   "outputs": [],
   "source": [
    "9. You are creating a shopping cart for an e-commerce website. Using OOP to model\n",
    "the \"ShoppingCart\" functionality the class should contain following attributes and\n",
    "methods:\n",
    "a. items: Represents the list of items in the shopping cart.\n",
    "The class also includes the following methods:\n",
    "\n",
    "a. add_item(self, item): Adds an item to the shopping cart by appending it to the\n",
    "list of items.\n",
    "b. remove_item(self, item): Removes an item from the shopping cart if it exists in\n",
    "the list.\n",
    "c. view_cart(self): Displays the items currently present in the shopping cart.\n",
    "d. clear_cart(self): Clears all items from the shopping cart by reassigning an\n",
    "empty list to the items attribute."
   ]
  },
  {
   "cell_type": "code",
   "execution_count": null,
   "id": "5b55a681",
   "metadata": {},
   "outputs": [],
   "source": [
    "class ShoppingCart:\n",
    "    def __init__(self):\n",
    "        self.items = []\n",
    "\n",
    "    def add_item(self, item):\n",
    "        self.items.append(item)\n",
    "        print(\"item added\")\n",
    "\n",
    "    def remove_item(self, item):\n",
    "        if item in self.items:\n",
    "            self.items.remove(item)\n",
    "            print(\"item removed\")\n",
    "        else:\n",
    "            print(\"item not present in the cart\")\n",
    "\n",
    "    def view_cart(self):\n",
    "        if self.items:\n",
    "            print(\"Items in the cart:\")\n",
    "            for item in self.items:\n",
    "                print(f\"- {item}\")\n",
    "        else:\n",
    "            print(\"The cart is empty.\")\n",
    "\n",
    "    def clear_cart(self):\n",
    "        self.items = []\n",
    "        print(\"The cart is cleared.\")\n"
   ]
  },
  {
   "cell_type": "code",
   "execution_count": null,
   "id": "2deb78fb",
   "metadata": {},
   "outputs": [],
   "source": [
    "10. Imagine a school management system. You have to design the \"Student\" class using\n",
    "OOP concepts.The “Student” class has the following attributes:\n",
    "a. name: Represents the name of the student.\n",
    "b. age: Represents the age of the student.\n",
    "c. grade: Represents the grade or class of the student.\n",
    "d. student_id: Represents the unique identifier for the student.\n",
    "e. attendance: Represents the attendance record of the student.\n",
    "The class should also include the following methods:\n",
    "a. update_attendance(self, date, status): Updates the attendance record of the\n",
    "student for a given date with the provided status (e.g., present or absent).\n",
    "b. get_attendance(self): Returns the attendance record of the student.\n",
    "c. get_average_attendance(self): Calculates and returns the average\n",
    "attendance percentage of the student based on their attendance record."
   ]
  },
  {
   "cell_type": "code",
   "execution_count": null,
   "id": "245fd6d6",
   "metadata": {},
   "outputs": [],
   "source": [
    "class Student:\n",
    "    def __init__(self, name, age, grade, student_id):\n",
    "        self.name = name\n",
    "        self.age = age\n",
    "        self.grade = grade\n",
    "        self.student_id = student_id\n",
    "        self.attendance = {}\n",
    "\n",
    "    def update_attendance(self, date, status):\n",
    "        self.attendance[date] = status\n",
    "\n",
    "    def get_attendance(self):\n",
    "        return self.attendance\n",
    "\n",
    "    def get_average_attendance(self):\n",
    "        if not self.attendance:\n",
    "            return \"No attendance records found.\"\n",
    "        total_days = len(self.attendance)\n",
    "        present_days = list(self.attendance.values()).count(\"present\")\n",
    "        return f\"The average attendance percentage of {self.name} is {present_days / total_days * 100}%.\"\n",
    "\n"
   ]
  },
  {
   "cell_type": "code",
   "execution_count": null,
   "id": "ac2358da",
   "metadata": {},
   "outputs": [],
   "source": []
  },
  {
   "cell_type": "code",
   "execution_count": null,
   "id": "dd6a7e9f",
   "metadata": {},
   "outputs": [],
   "source": []
  }
 ],
 "metadata": {
  "kernelspec": {
   "display_name": "Python 3 (ipykernel)",
   "language": "python",
   "name": "python3"
  },
  "language_info": {
   "codemirror_mode": {
    "name": "ipython",
    "version": 3
   },
   "file_extension": ".py",
   "mimetype": "text/x-python",
   "name": "python",
   "nbconvert_exporter": "python",
   "pygments_lexer": "ipython3",
   "version": "3.10.9"
  }
 },
 "nbformat": 4,
 "nbformat_minor": 5
}
