{
 "cells": [
  {
   "cell_type": "markdown",
   "id": "a2bff284",
   "metadata": {},
   "source": [
    "# Python function Assignment:"
   ]
  },
  {
   "cell_type": "code",
   "execution_count": 6,
   "id": "e0288695",
   "metadata": {},
   "outputs": [
    {
     "name": "stdout",
     "output_type": "stream",
     "text": [
      "hello ineuron\n"
     ]
    },
    {
     "data": {
      "text/plain": [
       "9"
      ]
     },
     "execution_count": 6,
     "metadata": {},
     "output_type": "execute_result"
    }
   ],
   "source": [
    "### 1. In Python, what is the difference between a built-in function and a user-defined function?\n",
    "    #Provide an example of each.\n",
    "    \n",
    "#Ans:\n",
    "#python has multiple built-in-module dor our day to day use but user can create its own function,to avoide same blocks many times.\n",
    "# 1] built-defined-function:\n",
    "    # in python there are n no.of built-defined-function are available to reduce the time for coding,reduce the length of program.\n",
    "    # these function are already in python language so we can use it directly..\n",
    "    # examples:\n",
    "    #print()\n",
    "print('hello ineuron')\n",
    "    #sum()\n",
    "    #type()\n",
    "\n",
    "# 2] user-defined-function:\n",
    "    # user can create its own function that can be useful to him to reduce writing same codes multiple times.\n",
    "    # code reusability increases due to this.\n",
    "    #examples:\n",
    "def add(x,y):\n",
    "    return x+y\n",
    "    # here \"add\" is an function name created by user.\n",
    "    #x and y are the arguments or variables.\n",
    "    \n",
    "add(4,5)\n"
   ]
  },
  {
   "cell_type": "code",
   "execution_count": 114,
   "id": "c8246368",
   "metadata": {},
   "outputs": [
    {
     "name": "stdout",
     "output_type": "stream",
     "text": [
      "my name is pritam and i have done mechanical engineering.\n",
      "my name is mechanical and i have done pritam.........\n",
      "....thats why user can use keyword argument engineering.\n",
      "my name is pritam and i have done mechanical engineering.\n"
     ]
    }
   ],
   "source": [
    "### 2. How can you pass arguments to a function in Python? Explain the difference between positional\n",
    "    # arguments and keyword arguments.\n",
    "\n",
    "#Ans:\n",
    "# In user defined fucntion we use 'def' fucntion and after that we pass the arguments.\n",
    "# after \"def\" user passes an argument it can be single or multiple.\n",
    "\n",
    "# 1] positional argument:\n",
    "    # in positional argument assigning values happens according to their order.\n",
    "    # it is good method for lesser argument but not sure for more arguments.\n",
    "    \n",
    "#example:\n",
    "def Intro(name,degree):\n",
    "    print(f\"my name is {name} and i have done {degree} engineering.\")\n",
    "# now we will execute it. \n",
    "Intro('pritam','mechanical')\n",
    "\n",
    "# but in the above method if we change the order of the argument, the full statemnt will change accordingly.\n",
    "#example:\n",
    "Intro('mechanical','pritam'\".........\\n....thats why user can use keyword argument\")\n",
    "\n",
    "# 2] keyword argument:\n",
    "# in keyword argument user can assign the keyword with its values and the sequence qill never change.\n",
    "#example:\n",
    "# in this we will change the order but assign the key and values.\n",
    "# it is great method for if arguments are multiple.\n",
    "Intro(degree='mechanical',name='pritam')\n"
   ]
  },
  {
   "cell_type": "code",
   "execution_count": 12,
   "id": "99f07563",
   "metadata": {},
   "outputs": [
    {
     "name": "stdout",
     "output_type": "stream",
     "text": [
      "medium book\n",
      "jumbo book\n"
     ]
    }
   ],
   "source": [
    "### 3. What is the purpose of the return statement in a function? Can a function have multiple return\n",
    "    #statements? Explain with an example.\n",
    "\n",
    "#Ans:\n",
    "# Return statement acts as a print but a better version of print.\n",
    "# print is a nonetype function and basically used in basic level programming.\n",
    "# for advance level programming we need to return funtion.\n",
    "# we use return statemnt n functions.\n",
    "# when a return statement is encountered in a function it immidiately execute the function and return the output.\n",
    "# it is possible to have multiple return statement in a single function.\n",
    "def notebook(pages):\n",
    "    \n",
    "    if pages >= 300:\n",
    "        return \"jumbo book\"\n",
    "    if pages < 300 >= 200:\n",
    "        return \"medium book\"\n",
    "    else:\n",
    "        return \"small book\"\n",
    "    \n",
    "notebook1=notebook(250)\n",
    "notebook2=notebook(355)\n",
    "\n",
    "print(notebook1)\n",
    "print(notebook2)"
   ]
  },
  {
   "cell_type": "code",
   "execution_count": 13,
   "id": "55bbba6a",
   "metadata": {},
   "outputs": [
    {
     "data": {
      "text/plain": [
       "16"
      ]
     },
     "execution_count": 13,
     "metadata": {},
     "output_type": "execute_result"
    }
   ],
   "source": [
    "### 4. What are lambda functions in Python? How are they different from regular functions? Provide an\n",
    "    #example where a lambda function can be useful.\n",
    "    \n",
    "#Ans:\n",
    "# 'lambda' is an enormous function acts as def function.\n",
    "# lambda is used to perform small operations not suitable for complex operations.\n",
    "# lambda is easy to use and very compact in nature.\n",
    "#example:\n",
    "square=lambda x:x**2\n",
    "# here we pass single argument but we can pass multiple arguments.\n",
    "# no need to write return statement.\n",
    "square(4)"
   ]
  },
  {
   "cell_type": "code",
   "execution_count": 30,
   "id": "e9698584",
   "metadata": {},
   "outputs": [
    {
     "name": "stdout",
     "output_type": "stream",
     "text": [
      "46\n",
      "50\n"
     ]
    }
   ],
   "source": [
    "### 5. How does the concept of \"scope\" apply to functions in Python?\n",
    "    #Explain the difference between local scope and global scope.\n",
    "    \n",
    "#Ans:\n",
    "#in python there are two types of scopes are there.global scope and local scope.\n",
    "# 1] global scope:\n",
    "# values that are assigned outside the function or at outer layer of the function\n",
    "  #and program,these variables are comes under the global scopes.\n",
    "# it is very imporatnt to assign the global scope it gives reference value \n",
    "  #or start value to the program or function.\n",
    "#example:\n",
    "sum=46  # this  is a global scope variable.\n",
    "print(sum)\n",
    "\n",
    "\n",
    "# 2] local scope variable:\n",
    "# values that are inside the function anf operations and can be changed.\n",
    "# local scope variables are not the permanant are it will exhaust once we call it.\n",
    "a=30\n",
    "b=20\n",
    "sum=a+b # this is a local scope variable.\n",
    "print(sum)\n"
   ]
  },
  {
   "cell_type": "code",
   "execution_count": 41,
   "id": "1986890f",
   "metadata": {},
   "outputs": [
    {
     "name": "stdout",
     "output_type": "stream",
     "text": [
      "pritam\n",
      "26\n",
      "fsds\n"
     ]
    }
   ],
   "source": [
    "### 6. How can you use the \"return\" statement in a Python function to return multiple values?\n",
    "\n",
    "#Ans:\n",
    "# In python we can use statement to have multiple values..\n",
    "# we just need to separte the output values with comma and assign it with different variables.\n",
    "# the values can be any type like str,int,float.\n",
    "# example:\n",
    "def info():\n",
    "    name='pritam'\n",
    "    age=26\n",
    "    course='fsds'\n",
    "    return name, age, course\n",
    "\n",
    "\n",
    "\n",
    "print(name)\n",
    "print(age)\n",
    "print(course)\n"
   ]
  },
  {
   "cell_type": "code",
   "execution_count": 44,
   "id": "3fed81a0",
   "metadata": {},
   "outputs": [
    {
     "name": "stdout",
     "output_type": "stream",
     "text": [
      "11\n",
      "10\n",
      "[1, 2, 3, 4, 9]\n",
      "[1, 2, 3, 4, 9]\n"
     ]
    }
   ],
   "source": [
    "### 7. What is the difference between the \"pass by value\" and \"pass by reference\" concepts when it\n",
    "    # comes to function arguments in Python?\n",
    "    \n",
    "#Ans:\n",
    "# 1] pass by value:\n",
    "    # in python there are two concepts, one is pass by value and other is pass by reference.\n",
    "    # in pass by value, when arguemnt is called function execute that argument but does not change the actual value of that argument.\n",
    "    # if the variables are immutable then the term pass by values is called because values will never change.\n",
    "    # example:\n",
    "def add(num):\n",
    "    num+=1\n",
    "    print(num)\n",
    "\n",
    "count=10 # we assign the value of count==10\n",
    "add(count) # called the function it will add one number.\n",
    "print(count) # the value of the count remains the same.\n",
    "\n",
    "\n",
    "# 2] pass by reference:\n",
    "    # if the variable is mutable like list or dictionary then we can perform the pass by reference.\n",
    "    # in pass by reference the value of variable will change even outside of the function.\n",
    "    # example:\n",
    "def addd(nnum):\n",
    "    nnum.append(9)\n",
    "    print(nnum)\n",
    "    \n",
    "p=[1,2,3,4] # we take a list as p=[1,2,3,4]\n",
    "addd(p)     # called the function addd.\n",
    "print(p)    # check the value of p and it is changed."
   ]
  },
  {
   "cell_type": "code",
   "execution_count": 68,
   "id": "007074d2",
   "metadata": {},
   "outputs": [
    {
     "name": "stdout",
     "output_type": "stream",
     "text": [
      "(1.5260563034950492, 99.48431564193378, 24.251465064166364, 2.1447610589527217)\n"
     ]
    }
   ],
   "source": [
    "### 8. Create a function that can intake integer or decimal value and do following operations:\n",
    "    #a. Logarithmic function (log x)\n",
    "    #b. Exponential function (exp(x))\n",
    "    #c. Power function with base 2 (2x)\n",
    "    #d. Square root\n",
    "    \n",
    "#Ans:\n",
    "#lets start we will take imaginary function as \"Jarvis\":\n",
    "# for this operations we need to import the math module.\n",
    "\n",
    "import math\n",
    "def Jarvis(x):\n",
    "    Logarithmic = math.log(x)\n",
    "    Exponential = math.exp(x)\n",
    "    Power       = math.pow(2,x)\n",
    "    square_root = math.sqrt(x)\n",
    "       \n",
    "    return Logarithmic, Exponential, Power, square_root\n",
    "    \n",
    "print(Jarvis(4.6))\n",
    "# the output is printed in tuple as per the order in return function.\n",
    "# we passes the value 4.6 a float value...it can be int or float."
   ]
  },
  {
   "cell_type": "code",
   "execution_count": 111,
   "id": "2c95c8c6",
   "metadata": {},
   "outputs": [
    {
     "name": "stdout",
     "output_type": "stream",
     "text": [
      "first name:  Pritam\n",
      "last name:  Kamble\n"
     ]
    }
   ],
   "source": [
    "### 9. Create a function that takes a full name as an argument and returns first name and last name\n",
    "\n",
    "#Ans:\n",
    "# lets create one function as \"name\".\n",
    "# we will pass the argument as \"full_name\".\n",
    "# we will split function to separate it from another str.\n",
    "# we will assign 'first_name' to [0] and last_name to [-1].\n",
    "\n",
    "def info(full_name):\n",
    "    name=full_name.split()\n",
    "    first_name=name[0]\n",
    "    last_name=name[-1]\n",
    "    \n",
    "    return first_name, last_name\n",
    "\n",
    "first,last=info(name)\n",
    "\n",
    "name=\"Pritam Kamble\"       # name is our full name.\n",
    "print(\"first name: \",first)# here we print our first_name\n",
    "print('last name: ',last)  # we print our last_name."
   ]
  },
  {
   "cell_type": "code",
   "execution_count": null,
   "id": "e70500d4",
   "metadata": {},
   "outputs": [],
   "source": []
  }
 ],
 "metadata": {
  "kernelspec": {
   "display_name": "Python 3 (ipykernel)",
   "language": "python",
   "name": "python3"
  },
  "language_info": {
   "codemirror_mode": {
    "name": "ipython",
    "version": 3
   },
   "file_extension": ".py",
   "mimetype": "text/x-python",
   "name": "python",
   "nbconvert_exporter": "python",
   "pygments_lexer": "ipython3",
   "version": "3.10.9"
  }
 },
 "nbformat": 4,
 "nbformat_minor": 5
}
