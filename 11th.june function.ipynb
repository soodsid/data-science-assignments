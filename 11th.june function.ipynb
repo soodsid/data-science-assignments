{
 "cells": [
  {
   "cell_type": "markdown",
   "id": "bb3e8fbd",
   "metadata": {},
   "source": [
    "# 11 June Python Functon"
   ]
  },
  {
   "cell_type": "code",
   "execution_count": 5,
   "id": "a510dfb3",
   "metadata": {},
   "outputs": [
    {
     "name": "stdout",
     "output_type": "stream",
     "text": [
      "25\n",
      "8\n",
      "384\n"
     ]
    }
   ],
   "source": [
    "### 1. What is a lambda function in Python, and how does it differ from a regular function?\n",
    "\n",
    "#Ans:\n",
    "# 'lambda' is an ananymous fucntion in the python.\n",
    "# It perform the same operations as the regular function but for simple operations.\n",
    "# It is difficult to perform complex operations with lambda.\n",
    "# It is simple to use, perform simple tasks.\n",
    "# it is used to perform simple operations like:\n",
    "sqr=lambda x : x**2\n",
    "print(sqr(5))\n",
    "\n",
    "add=lambda x,y:x+y\n",
    "print(add(3,5))\n",
    "\n",
    "mult=lambda a,b,c,d:a*b*c*d\n",
    "print(mult(2,4,6,8))"
   ]
  },
  {
   "cell_type": "code",
   "execution_count": 12,
   "id": "72fe817b",
   "metadata": {},
   "outputs": [
    {
     "name": "stdout",
     "output_type": "stream",
     "text": [
      "[2, 3, 4, 5, 6]\n",
      "{'a': 3, 'b': 5, 'c': 7}\n",
      "112\n"
     ]
    }
   ],
   "source": [
    "### 2. Can a lambda function in Python have multiple arguments? If yes, how can you define and use\n",
    "    # them?\n",
    "    \n",
    "#Ans:\n",
    "# yes,it is possible to have multiple arguments in lambda function.\n",
    "# we can ceate a list or perform addition and multiplication operations.\n",
    "# lets see with the example:\n",
    "\n",
    "# 1] list:\n",
    "lst=lambda *a:a # here \"*\" is used for multiple arguments.\n",
    "print(list(lst(2,3,4,5,6)))\n",
    "\n",
    "# 2] dictionary:\n",
    "dict=lambda **b:b  # \"**\" is used for dictionary, key-value pair.\n",
    "print(dict(a=3,b=5,c=7))\n",
    "\n",
    "# 3] addition:\n",
    "add=lambda e,f,g: e+f+g\n",
    "print(add(5,99,8))"
   ]
  },
  {
   "cell_type": "code",
   "execution_count": 13,
   "id": "ec4e8050",
   "metadata": {},
   "outputs": [
    {
     "name": "stdout",
     "output_type": "stream",
     "text": [
      "125\n"
     ]
    }
   ],
   "source": [
    "### 3. How are lambda functions typically used in Python? Provide an example use case.\n",
    "\n",
    "#Ans:\n",
    "# lambda function is simple to use but it is not for complex operations.\n",
    "# In python we use lambda function to perform simple operations like addition, multiplication.\n",
    "# we can create a list and many things using a lambda operations.\n",
    "# lets see the following operations.\n",
    "\n",
    "# cube:\n",
    "cube=lambda p:p**3\n",
    "print(cube(5))"
   ]
  },
  {
   "cell_type": "code",
   "execution_count": 14,
   "id": "a0564833",
   "metadata": {},
   "outputs": [],
   "source": [
    "### 4. What are the advantages and limitations of lambda functions compared to regular functions in\n",
    "    # Python?\n",
    "    \n",
    "# lambda function perform the same way as regular function but it has some advantages and limitations.\n",
    "# Advantages:\n",
    "# 1) It is simple to use .\n",
    "# 2) no need to write return keyword.\n",
    "# 3) it can perform simple operations in single line.\n",
    "\n",
    "# Limitations:\n",
    "# 1) complex operations not possible, even user use lambda function in complex operations it will hard to debug the code.\n",
    "# 2) it is ananymous means it has no name,so we cant call the function outside the function.\n"
   ]
  },
  {
   "cell_type": "code",
   "execution_count": 20,
   "id": "2bee1ae0",
   "metadata": {},
   "outputs": [
    {
     "name": "stdout",
     "output_type": "stream",
     "text": [
      "50\n"
     ]
    }
   ],
   "source": [
    "### 5. Are lambda functions in Python able to access variables defined outside of their own scope?\n",
    "    #Explain with an example.\n",
    "    \n",
    "#Ans:\n",
    "# Yes, it is possible to use lambda function outside of their own scope,\n",
    " # for that we need to use regular function.\n",
    "# lets understand it with the example:\n",
    "# first we will create one regular function.\n",
    "\n",
    "def Reg_function(): \n",
    "    x=10            # we take x=10 as a global variable.\n",
    "    mult=lambda y:x*y # y is the local variable.\n",
    "    return mult      # return as a lambda function.\n",
    "\n",
    "function1=Reg_function()  # assign Reg_function as function1\n",
    "result=function1(5)       # result = function1(local variable).\n",
    "print(result)             # print(result).result will be multiplication.\n",
    "    "
   ]
  },
  {
   "cell_type": "code",
   "execution_count": 22,
   "id": "7527df6b",
   "metadata": {},
   "outputs": [
    {
     "name": "stdout",
     "output_type": "stream",
     "text": [
      "enter any integer : 4\n",
      "16\n"
     ]
    }
   ],
   "source": [
    "### 6. Write a lambda function to calculate the square of a given number.\n",
    "\n",
    "#Ans:\n",
    "x = int(input(\"enter any integer : \")) # we can write\"float\" instead of 'int' to perform decimal operations.\n",
    "square = lambda x: x**2\n",
    "print(square(x))"
   ]
  },
  {
   "cell_type": "code",
   "execution_count": 29,
   "id": "659a86cb",
   "metadata": {},
   "outputs": [
    {
     "name": "stdout",
     "output_type": "stream",
     "text": [
      "88\n"
     ]
    }
   ],
   "source": [
    "### 7. Create a lambda function to find the maximum value in a list of integers.\n",
    "\n",
    "#Ans:\n",
    "l=[1,2,3,4,5,6,88]                  # first create a list.\n",
    "maximum_number= lambda num:max(num) # write lambda function where argument is num.\n",
    "\n",
    "result = maximum_number(l)          # result = function and argument is list.\n",
    "print(result)"
   ]
  },
  {
   "cell_type": "code",
   "execution_count": 40,
   "id": "2f8df6a9",
   "metadata": {},
   "outputs": [
    {
     "name": "stdout",
     "output_type": "stream",
     "text": [
      "[2, 4, 6, 8, 10]\n"
     ]
    }
   ],
   "source": [
    "### 8. Implement a lambda function to filter out all the even numbers from a list of integers.\n",
    "\n",
    "#Ans:\n",
    "numbers=[1,2,3,4,5,6,7,8,9,10]                       # create a list.\n",
    "even_numbers = list(filter(lambda m : m%2==0,numbers))# we use filter to filter out numbers from a list.\n",
    "\n",
    "print(even_numbers) # print even_numbers."
   ]
  },
  {
   "cell_type": "code",
   "execution_count": 42,
   "id": "f9ce05aa",
   "metadata": {},
   "outputs": [
    {
     "name": "stdout",
     "output_type": "stream",
     "text": [
      "['ray', 'nick', 'karan', 'pritam']\n"
     ]
    }
   ],
   "source": [
    "### 9. Write a lambda function to sort a list of strings in ascending order based on the length of each\n",
    "    # string.\n",
    "\n",
    "#Ans:\n",
    "lst = ['ray','nick','karan','pritam']\n",
    "\n",
    "asc_order = sorted(lst,key=lambda x:len(x))\n",
    "\n",
    "print(asc_order)"
   ]
  },
  {
   "cell_type": "code",
   "execution_count": 44,
   "id": "f4df0b52",
   "metadata": {},
   "outputs": [
    {
     "name": "stdout",
     "output_type": "stream",
     "text": [
      "[3, 4]\n"
     ]
    }
   ],
   "source": [
    "### 10. Create a lambda function that takes two lists as input and returns a new list containing the\n",
    "    # common elements between the two lists.\n",
    "    \n",
    "#Ans:\n",
    "l1=[1,2,3,4] # first list.\n",
    "l2=[3,4,5,6] # second list.\n",
    "lst=list(filter(lambda x: x in l1,l2)) # filter out x from l1 and l2.\n",
    "print(lst)"
   ]
  },
  {
   "cell_type": "code",
   "execution_count": 48,
   "id": "88f9b112",
   "metadata": {},
   "outputs": [
    {
     "data": {
      "text/plain": [
       "5040"
      ]
     },
     "execution_count": 48,
     "metadata": {},
     "output_type": "execute_result"
    }
   ],
   "source": [
    "### 11. Write a recursive function to calculate the factorial of a given positive integer.\n",
    "\n",
    "#Ans:\n",
    "def factorial(n):\n",
    "    if n==0 or n==1:\n",
    "        return n\n",
    "    else:\n",
    "        return n*factorial(n-1)\n",
    "    \n",
    "factorial(7)"
   ]
  },
  {
   "cell_type": "code",
   "execution_count": 78,
   "id": "1a7ccbee",
   "metadata": {},
   "outputs": [
    {
     "name": "stdout",
     "output_type": "stream",
     "text": [
      "5\n"
     ]
    }
   ],
   "source": [
    "### 12. Implement a recursive function to compute the nth Fibonacci number.\n",
    "\n",
    "#Ans:\n",
    "\n",
    "   \n",
    "def rec_fib(n):\n",
    "    if n<=0:\n",
    "        return None\n",
    "    elif n==1 or n==2:\n",
    "        return n-1\n",
    "    else:\n",
    "        return rec_fib(n-1) + rec_fib(n-2)\n",
    "    \n",
    "    \n",
    "result= rec_fib(6) # 6th index in fibonacci number is '5'.\n",
    "print(result)"
   ]
  },
  {
   "cell_type": "code",
   "execution_count": 3,
   "id": "c97e29b1",
   "metadata": {},
   "outputs": [
    {
     "name": "stdout",
     "output_type": "stream",
     "text": [
      "246\n"
     ]
    }
   ],
   "source": [
    "### 13. Create a recursive function to find the sum of all the elements in a given list.\n",
    "\n",
    "#Ans:\n",
    "l=[1,2,3,4,5,66,77,88]\n",
    "\n",
    "def rec(l):\n",
    "    if not l:\n",
    "        return 0\n",
    "    else:\n",
    "        return l[0]+rec(l[1:])\n",
    "    \n",
    "print(rec(l))\n",
    "    "
   ]
  },
  {
   "cell_type": "code",
   "execution_count": 1,
   "id": "8c58b1c8",
   "metadata": {},
   "outputs": [
    {
     "name": "stdout",
     "output_type": "stream",
     "text": [
      "True\n",
      "False\n"
     ]
    }
   ],
   "source": [
    "### 14. Write a recursive function to determine whether a given string is a palindrome.\n",
    "\n",
    "#Ans:\n",
    "\n",
    "def Palidrome(string):\n",
    "    if len(string)==1:\n",
    "        return True\n",
    "    elif string[0]==string[-1]:\n",
    "        return Palidrome(string[1:-1])\n",
    "    else:\n",
    "        return False\n",
    "    \n",
    "str1='mam'\n",
    "result1=Palidrome(str1)\n",
    "print(result1)\n",
    "\n",
    "str2=\"ineuron\"\n",
    "result2=Palidrome(str2)\n",
    "print(result2)"
   ]
  },
  {
   "cell_type": "code",
   "execution_count": 8,
   "id": "6b4b966d",
   "metadata": {},
   "outputs": [
    {
     "name": "stdout",
     "output_type": "stream",
     "text": [
      "10\n"
     ]
    }
   ],
   "source": [
    "### 15. Implement a recursive function to find the greatest common divisor (GCD) of two positive integers.\n",
    "\n",
    "# Ans:\n",
    "def GCD(a,b): # define a function as GCD:\n",
    "    if b==0:  # it is simple logic that if b==0 then return a.\n",
    "        return a\n",
    "    else:\n",
    "        return GCD(b, a%b) \n",
    "    \n",
    "result=GCD(10,50)\n",
    "print(result)"
   ]
  },
  {
   "cell_type": "code",
   "execution_count": null,
   "id": "4f869b5c",
   "metadata": {},
   "outputs": [],
   "source": []
  }
 ],
 "metadata": {
  "kernelspec": {
   "display_name": "Python 3 (ipykernel)",
   "language": "python",
   "name": "python3"
  },
  "language_info": {
   "codemirror_mode": {
    "name": "ipython",
    "version": 3
   },
   "file_extension": ".py",
   "mimetype": "text/x-python",
   "name": "python",
   "nbconvert_exporter": "python",
   "pygments_lexer": "ipython3",
   "version": "3.10.9"
  }
 },
 "nbformat": 4,
 "nbformat_minor": 5
}
