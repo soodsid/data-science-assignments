{
 "cells": [
  {
   "cell_type": "markdown",
   "id": "3c352318",
   "metadata": {},
   "source": [
    "# 17th June."
   ]
  },
  {
   "cell_type": "code",
   "execution_count": null,
   "id": "67cb693f",
   "metadata": {},
   "outputs": [],
   "source": [
    "### 1. What is the role of try and exception block?\n",
    " \n",
    "#Ans:\n",
    "# If some error occurs in the program,then the program will stop immediately and it will execute remaining code. \n",
    "# for some reason in python try and except method is used.\n",
    "# In try block we pass the blocks that can raise an error.\n",
    "# in except block we pass the error that can be visible in the output.\n",
    "# it is very imporatant or the code will stop executing if an error occur."
   ]
  },
  {
   "cell_type": "code",
   "execution_count": 2,
   "id": "0b8751f8",
   "metadata": {},
   "outputs": [
    {
     "name": "stdout",
     "output_type": "stream",
     "text": [
      "denominator must be int\n"
     ]
    }
   ],
   "source": [
    "### 2. What is the syntax for a basic try-except block?\n",
    "\n",
    "#Ans:\n",
    "# first try block:\n",
    "# In try block we pass the variables and operation.\n",
    "# program in the try blocks can raise an error.\n",
    "try:\n",
    "    a=10\n",
    "    b=0\n",
    "    c=a/b\n",
    "    print(c)\n",
    "# In except block we write the message that we want to write alternate to error.\n",
    "# if we didnt print the except block then it will print error.\n",
    "except:\n",
    "    print('denominator must be int')"
   ]
  },
  {
   "cell_type": "code",
   "execution_count": 12,
   "id": "a01771a3",
   "metadata": {},
   "outputs": [
    {
     "name": "stdout",
     "output_type": "stream",
     "text": [
      "a and b must be non-zero\n"
     ]
    }
   ],
   "source": [
    "### 3. What happens if an exception occurs inside a try block and there is no matching\n",
    "    # except block?\n",
    "    \n",
    "#Ans:\n",
    "# it can be done by two ways.\n",
    "\n",
    "# a] raise Exception:\n",
    "# for this kind of condition we can use \"raise\" keyword.\n",
    "# raise keyword is used as a custom except block.\n",
    "# in the following example we use ZeroDivisionError but we have zero at numerator.\n",
    "# we can eigther use raise and we can use bare axcept block.\n",
    "try:\n",
    "    a=0\n",
    "    b=20\n",
    "    if a<=0 or b<=0: \n",
    "        raise Exception('a and b must be non-zero') # here we created a custom Exception.\n",
    "    c=a/b\n",
    "    print(c)\n",
    "    \n",
    "    \n",
    "except Exception as e:\n",
    "    print(e)\n",
    "    \n",
    "except ZeroDivisionError: # we use ZeroDivisionError but it is not executed.\n",
    "    print('denominator should be zero')"
   ]
  },
  {
   "cell_type": "code",
   "execution_count": 47,
   "id": "2cf8ce58",
   "metadata": {},
   "outputs": [
    {
     "name": "stdout",
     "output_type": "stream",
     "text": [
      "enter 1st value : 44\n",
      "enter 2nd value : hello\n",
      "check the values.\n"
     ]
    }
   ],
   "source": [
    "# b] use except block:\n",
    "try:\n",
    "    a=int(input('enter 1st value : '))\n",
    "    b=int(input('enter 2nd value : '))\n",
    "    c=a/b\n",
    "    print(c)\n",
    "    \n",
    "except:\n",
    "    print(\"check the values.\")"
   ]
  },
  {
   "cell_type": "code",
   "execution_count": 18,
   "id": "7c80c4f2",
   "metadata": {},
   "outputs": [
    {
     "name": "stdout",
     "output_type": "stream",
     "text": [
      "it is not possible\n",
      "print type error\n"
     ]
    }
   ],
   "source": [
    "### 4. What is the difference between using a bare except block and specifying a specific\n",
    "    # exception type?\n",
    "    \n",
    "# Ans:\n",
    "# 1] bare except:\n",
    "# if we use bare except block then it will handle every type of error.\n",
    "# error can be ZeroDivisionError, TypeError, ValueError or manymore.\n",
    "# there is no need to mention anything in the bare except block.\n",
    "# example:\n",
    "try:\n",
    "    a=8      # a is 8 which is int.\n",
    "    b='hello'# b is 'hello' which is str.\n",
    "    c=a/b    # it is not possible to perform this operation.\n",
    "    print(c)\n",
    "    \n",
    "except:\n",
    "    print('it is not possible') # if operation is True it will not print this msg.\n",
    "\n",
    "# 2] specific Exception Block:\n",
    "# there are many specific Exception blocks which can help to perform the program without error.\n",
    "# ZeroDivisionError, ValueError, TypeError, IOError....\n",
    "# example:\n",
    "\n",
    "try:\n",
    "    a=8      # a is 8 which is int.\n",
    "    b='hello'# b is 'hello' which is str.\n",
    "    c=a/b    # it is not possible to perform this operation.\n",
    "    print(c)\n",
    "    \n",
    "except TypeError:\n",
    "    print('print type error') # if operation is True it will not print this msg.\n"
   ]
  },
  {
   "cell_type": "code",
   "execution_count": 14,
   "id": "6ccef7ff",
   "metadata": {},
   "outputs": [
    {
     "name": "stdout",
     "output_type": "stream",
     "text": [
      "enter the value : 55\n",
      "enter the value : hello\n",
      "enter only int value\n"
     ]
    }
   ],
   "source": [
    "### 5. Can you have nested try-except blocks in Python? If yes, then give an example.\n",
    "\n",
    "#Ans:\n",
    "# It is possible to have nested try-except block.\n",
    "# it is used to achieve fine_grained output.\n",
    "# lets understand it with the example:\n",
    "# here we created a try and except block and inside of it there is another try and except block.\n",
    "try:\n",
    "    try:\n",
    "        a=int(input('enter the value : '))\n",
    "        b=int(input('enter the value : '))\n",
    "        c=a/b\n",
    "        print(c) \n",
    "    except ValueError:\n",
    "        print(\"enter only int value\")\n",
    "    except ZeroDivisionError:\n",
    "        print(\"denominator should not be zero.\")\n",
    "        \n",
    "except:\n",
    "    print('Error ! something is wrong.')"
   ]
  },
  {
   "cell_type": "code",
   "execution_count": 19,
   "id": "799606a6",
   "metadata": {},
   "outputs": [
    {
     "name": "stdout",
     "output_type": "stream",
     "text": [
      "enter first value : 55\n",
      "enter second value : 0\n",
      "denominator must not be zero\n"
     ]
    }
   ],
   "source": [
    "### 6. Can we use multiple exception blocks, if yes then give an example.\n",
    "\n",
    "#Ans:\n",
    "# yes we can use multiple Exception block which can be default or custom.\n",
    "# some of the most common exceptions are ZeroDivisionError,TypeError,ValueError....\n",
    "# if error is something different from these exception then we can create our own exception.\n",
    "# lets understand it with example:\n",
    "# this program handle ValueError, TypeError, ZeroDivisionError.\n",
    "\n",
    "try:\n",
    "    a=int(input('enter first value : '))\n",
    "    b=int(input('enter second value : '))\n",
    "    c=a/b\n",
    "    print(c)\n",
    "except ValueError:\n",
    "    print('value must be an int')\n",
    "except ZeroDivisionError:\n",
    "    print('denominator must not be zero')\n",
    "except TypeError:\n",
    "    print('both values must be same type')"
   ]
  },
  {
   "cell_type": "code",
   "execution_count": 21,
   "id": "fbad5a74",
   "metadata": {},
   "outputs": [
    {
     "data": {
      "text/plain": [
       "'\\na. EOFError\\nb. FloatingPointError\\nc. IndexError\\nd. MemoryError\\ne. OverflowError\\nf. TabError\\ng. ValueError '"
      ]
     },
     "execution_count": 21,
     "metadata": {},
     "output_type": "execute_result"
    }
   ],
   "source": [
    "### 7. Write the reason due to which following errors are raised:\n",
    "\"\"\"\n",
    "a. EOFError\n",
    "b. FloatingPointError\n",
    "c. IndexError\n",
    "d. MemoryError\n",
    "e. OverflowError\n",
    "f. TabError\n",
    "g. ValueError \"\"\"\n",
    "\n",
    "# Ans:\n",
    "# a] EOFError: raised when the input function hits the end of file condition(EOF).\n",
    "# b] FloatingPointError: raised when floating point operation fails.\n",
    "# c] IndexError: raised when index number is out of range.\n",
    "# d] MemoryError: raised when memory is insufficient to strore the data.\n",
    "# e] OverFlowError: raised when the result of operation is too large to express.\n",
    "# f] TabError : raised when indentation contains mixed spaces and tabs.\n",
    "# g] ValueError : raised when value is not correct to perform specific operation."
   ]
  },
  {
   "cell_type": "code",
   "execution_count": 25,
   "id": "f5ac6b5e",
   "metadata": {},
   "outputs": [
    {
     "name": "stdout",
     "output_type": "stream",
     "text": [
      "enter the number : 55\n",
      "enter the number : hello\n",
      "only int is allowed\n",
      "only int is allowed\n"
     ]
    }
   ],
   "source": [
    "### 8. Write code for the following given scenario and add try-exception block to it.\n",
    "\"\"\"\n",
    "a. Program to divide two numbers\n",
    "b. Program to convert a string to an integer\n",
    "c. Program to access an element in a list\n",
    "d. Program to handle a specific exception\n",
    "e. Program to handle any exception \"\"\"\n",
    "\n",
    "#Ans:\n",
    "# a] Program to divide two numbers\n",
    "\n",
    "try:\n",
    "    a=int(input('enter the number : '))\n",
    "    b=int(input('enter the number : '))\n",
    "    c=a+b\n",
    "    print(c)\n",
    "    \n",
    "except ValueError:\n",
    "    print('only int is allowed')\n",
    "    \n"
   ]
  },
  {
   "cell_type": "code",
   "execution_count": 41,
   "id": "8e19bdf9",
   "metadata": {},
   "outputs": [
    {
     "name": "stdout",
     "output_type": "stream",
     "text": [
      "enter str value : hello\n",
      "Invalid value:  <class 'int'>\n"
     ]
    }
   ],
   "source": [
    "# b] Program to convert a string to an integer\n",
    "try:\n",
    "    a=input('enter str value : ')\n",
    "    b=int(a) \n",
    "    print(b)\n",
    "    \n",
    "except ValueError:\n",
    "    print('Invalid value: ',type(b))\n",
    "except:\n",
    "    print('something is wrong:')"
   ]
  },
  {
   "cell_type": "code",
   "execution_count": 42,
   "id": "3372f3bc",
   "metadata": {},
   "outputs": [
    {
     "name": "stdout",
     "output_type": "stream",
     "text": [
      "1\n",
      "2\n",
      "3\n",
      "4\n",
      "5\n"
     ]
    }
   ],
   "source": [
    "# c] Program to access an element in a list\n",
    "try:\n",
    "    l=[1,2,3,4,5]\n",
    "    for i in l:\n",
    "        print(i)\n",
    "        \n",
    "except IndexError:\n",
    "    print(\"Index is out of range\")"
   ]
  },
  {
   "cell_type": "code",
   "execution_count": 44,
   "id": "74805435",
   "metadata": {},
   "outputs": [
    {
     "name": "stdout",
     "output_type": "stream",
     "text": [
      "enter 1st value : 2\n",
      "enter 2nd value : 4\n",
      "a should be grater than 10\n"
     ]
    }
   ],
   "source": [
    "# d] Program to handle a specific exception.\n",
    "#Ans:\n",
    "try:\n",
    "    a=int(input('enter 1st value : '))\n",
    "    b=int(input('enter 2nd value : '))\n",
    "    if a<=10 or b<=0:\n",
    "        raise Exception(\"a should be grater than 10\")\n",
    "    c=a/b\n",
    "    print(c)\n",
    "except ValueError:\n",
    "    print('enter int only.')\n",
    "except ZeroDivisionError:\n",
    "    print('denominator must not be zero.')\n",
    "except Exception as e:\n",
    "    print(e)\n",
    "    "
   ]
  },
  {
   "cell_type": "code",
   "execution_count": 46,
   "id": "2cd1db05",
   "metadata": {},
   "outputs": [
    {
     "name": "stdout",
     "output_type": "stream",
     "text": [
      "enter 1st value : 45\n",
      "enter 2nd value : fff\n",
      "check the values.\n"
     ]
    }
   ],
   "source": [
    "# e] Program to handle any exception .\n",
    "try:\n",
    "    a=int(input('enter 1st value : '))\n",
    "    b=int(input('enter 2nd value : '))\n",
    "    c=a/b\n",
    "    print(c)\n",
    "    \n",
    "except:\n",
    "    print(\"check the values.\") # this block can handle every kind of Exception."
   ]
  },
  {
   "cell_type": "code",
   "execution_count": null,
   "id": "c22b4f93",
   "metadata": {},
   "outputs": [],
   "source": []
  }
 ],
 "metadata": {
  "kernelspec": {
   "display_name": "Python 3 (ipykernel)",
   "language": "python",
   "name": "python3"
  },
  "language_info": {
   "codemirror_mode": {
    "name": "ipython",
    "version": 3
   },
   "file_extension": ".py",
   "mimetype": "text/x-python",
   "name": "python",
   "nbconvert_exporter": "python",
   "pygments_lexer": "ipython3",
   "version": "3.10.9"
  }
 },
 "nbformat": 4,
 "nbformat_minor": 5
}
