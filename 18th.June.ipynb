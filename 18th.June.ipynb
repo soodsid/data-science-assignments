{
 "cells": [
  {
   "cell_type": "markdown",
   "id": "989de5d4",
   "metadata": {},
   "source": [
    "# 18th June."
   ]
  },
  {
   "cell_type": "code",
   "execution_count": 2,
   "id": "60eccb7b",
   "metadata": {},
   "outputs": [
    {
     "name": "stdout",
     "output_type": "stream",
     "text": [
      "The result is :  5.0\n"
     ]
    }
   ],
   "source": [
    "### 1. What is the role of the 'else' block in a try-except statement?\n",
    "    # Provide an example scenario where it would be useful.\n",
    "    \n",
    "# Ans:\n",
    "# the else block code allows you to run the program without errors.\n",
    "# the syntax will be like this:\n",
    "# 1.try block:\n",
    "# 2. except block:\n",
    "# 3. else block:\n",
    "# the else block will execute if no exception is raised in try block.\n",
    "# example:\n",
    "def divide(a,b):\n",
    "    try:\n",
    "        result=a/b\n",
    "    except ZeroDivisionError:\n",
    "        print('denominator should not be zero.')\n",
    "    else:\n",
    "        print('The result is : ',result)\n",
    "        \n",
    "divide(55,11)"
   ]
  },
  {
   "cell_type": "code",
   "execution_count": 5,
   "id": "b05ecc67",
   "metadata": {},
   "outputs": [
    {
     "name": "stdout",
     "output_type": "stream",
     "text": [
      "enter 1st value : 55\n",
      "enter 2nd value : 0\n",
      "denominator should not be zero\n"
     ]
    }
   ],
   "source": [
    "### 2. Can a try-except block be nested inside another try-except block? Explain with an example.\n",
    "\n",
    "# Ans:\n",
    "# Yes,it is possible to have try-except block nested inside another try-except block.\n",
    "# lets understand it with the example.\n",
    "\n",
    "try: # this is outer try block.\n",
    "    try: # this is inner try block.\n",
    "        a=int(input(\"enter 1st value : \"))\n",
    "        b=int(input('enter 2nd value : '))\n",
    "        result=a/b\n",
    "        print(result)\n",
    "        \n",
    "    except ValueError: # this is inner exception.\n",
    "        print('value must be int')\n",
    "        \n",
    "except ZeroDivisionError: # this is outer exception.\n",
    "    print('denominator should not be zero')\n"
   ]
  },
  {
   "cell_type": "code",
   "execution_count": 7,
   "id": "c017833d",
   "metadata": {},
   "outputs": [
    {
     "name": "stdout",
     "output_type": "stream",
     "text": [
      "enter 1st value : 3\n",
      "enter 2nd value : 7\n",
      "a must be grater than b\n"
     ]
    }
   ],
   "source": [
    "### 3. How can you create a custom exception class in Python? Provide an example that demonstrates its usage.\n",
    "\n",
    "# Ans:\n",
    "# in python we can create custom exception class with the help of \"raise\" keyword.\n",
    "# raise will throw a exception if it is not inbuilt.\n",
    "# lets understand it with the example:\n",
    "\n",
    "try:\n",
    "    a=int(input('enter 1st value : '))\n",
    "    b=int(input('enter 2nd value : '))\n",
    "    if a<b:\n",
    "        raise Exception(\"a must be grater than b\") # here we create a custom exception block which can handle above cond.\n",
    "    c=a/b\n",
    "    print(c)\n",
    "    \n",
    "except ValueError:\n",
    "    print('enter int only. ')\n",
    "except ZeroDivisionError:\n",
    "    print(\"denominator should be nonzero. \")\n",
    "except Exception as e: # we need to print this like this.\n",
    "    print(e)\n",
    "    \n"
   ]
  },
  {
   "cell_type": "code",
   "execution_count": 8,
   "id": "93539ca5",
   "metadata": {},
   "outputs": [],
   "source": [
    "### 4. What are some common exceptions that are built-in to Python?\n",
    "\n",
    "# Ans:\n",
    "# There are many built-in exception in python.\n",
    "# following are the most common used Exception in python.\n",
    "\n",
    "# 1. ZeroDivisionError: Raised when the second argument of a division or modulo operation is zero.\n",
    "# 2. TypeError: Raised when an operation or function is applied to an object of inappropriate type.\n",
    "# 3. ValueError: Raised when a built-in operation or function receives an argument that has the right type but an inappropriate value.\n",
    "# 4. IndexError: Raised when a sequence subscript is out of range.\n",
    "# 5. KeyError: Raised when a dictionary key is not found.\n",
    "# 6. FileNotFoundError: Raised when a file or directory is requested but doesn’t exist.\n",
    "# 7. IOError: Raised when an I/O operation (such as a print statement, the built-in open() function or a method of a file object) fails for an I/O-related reason.# 8. ImportError: Raised when an import statement fails to find the module definition or when a from ... import fails to find a name that is to be imported.\n",
    "# 9. MemoryError: Raised when an operation runs out of memory.\n",
    "# 10.OverflowError: Raised when the result of an arithmetic operation is too large to be expressed by the normal number format.\n",
    "# 11.AttributeError: Raised when an attribute reference or assignment fails.\n",
    "# 12.SyntaxError: Raised when the parser encounters a syntax error.\n",
    "# 13.IndentationError: Raised when there is incorrect indentation.\n",
    "# 14.NameError: Raised when a local or global name is not found."
   ]
  },
  {
   "cell_type": "code",
   "execution_count": 9,
   "id": "b384615f",
   "metadata": {},
   "outputs": [],
   "source": [
    "### 5. What is logging in Python, and why is it important in software development?\n",
    "\n",
    "# Ans:\n",
    "# logging is an essential tool which helps in debug and monitoring issues,improving performance \n",
    " #  maintaining overall health of the software system.\n",
    "# It promotes better visibility,facilitate debugging,and enables effective collaboration among team members.\n",
    "# Logging plays an imporatant role in following reason:\n",
    "# 1. debugging and troubleshoot.\n",
    "# 2. monitoring and auditing.\n",
    "# 3. Error reporting and analysis.\n",
    "# 4. Historical analysis.\n",
    "# 5. Visibility and collaboration."
   ]
  },
  {
   "cell_type": "code",
   "execution_count": 19,
   "id": "f95d5ceb",
   "metadata": {},
   "outputs": [
    {
     "name": "stderr",
     "output_type": "stream",
     "text": [
      "DEBUG:__main__:this is a debug msg.\n",
      "INFO:__main__:This is a information message.\n",
      "WARNING:__main__:warning: something is wrong\n",
      "ERROR:__main__:error: please check the program\n",
      "CRITICAL:__main__:critical: connection is failed\n"
     ]
    }
   ],
   "source": [
    "### 6. Explain the purpose of log levels in Python logging and\n",
    "    #provide examples of when each log level would be appropriate.\n",
    "    \n",
    "# Ans:\n",
    "# There are like 5 log levels, the increase in the level bigger the issue get.\n",
    "# 1]. debug:\n",
    "  # this level is the lowest log level used in dubugging the codes.\n",
    "    \n",
    "import logging\n",
    "logging.basicConfig(level=logging.DEBUG)\n",
    "logger = logging.getLogger(__name__)\n",
    "\n",
    "# debugging message.\n",
    "logger.debug(\"this is a debug msg.\")\n",
    "\n",
    "# 2]. info:\n",
    "    # this is also low level log but harder than debug.it provides better information.\n",
    "    \n",
    "import logging\n",
    "\n",
    "logging.basicConfig(level=logging.INFO)\n",
    "logger = logging.getLogger(__name__)\n",
    "\n",
    "# information message\n",
    "logger.info(\"This is a information message.\")\n",
    "\n",
    "# 3]. warning:\n",
    "    # this is medium log level,it shows warning while execution the code.\n",
    "    \n",
    "import logging\n",
    "logging.basicConfig(level=logging.WARNING)\n",
    "logger = logging.getLogger(__name__)\n",
    "\n",
    "# warning message.\n",
    "logger.warning(\"warning: something is wrong\")\n",
    "\n",
    "# 4]. error:\n",
    "    # this is hard log level which shows error in the program while execution.\n",
    "    \n",
    "import logging\n",
    "logging.basicConfig(level=logging.ERROR)\n",
    "logger = logging.getLogger(__name__)\n",
    "\n",
    "# Error message.\n",
    "logger.error(\"error: please check the program\")\n",
    "\n",
    "# 5]. critical:\n",
    "    # this is a severe log level.it shows critical issues.\n",
    "    # critical issues need to handle first.\n",
    "    \n",
    "import logging\n",
    "logging.basicConfig(level=logging.CRITICAL)\n",
    "logger = logging.getLogger(__name__)\n",
    "\n",
    "# critical message:\n",
    "logger.critical('critical: connection is failed')"
   ]
  },
  {
   "cell_type": "code",
   "execution_count": 1,
   "id": "7faa51fc",
   "metadata": {},
   "outputs": [
    {
     "name": "stderr",
     "output_type": "stream",
     "text": [
      "2023-07-06 09:13:46,842 - my_logger - ERROR - An error occurred\n"
     ]
    }
   ],
   "source": [
    "### 7. What are log formatters in Python logging, and how can you customise the log message format using formatters?\n",
    "\n",
    "# Ans:\n",
    "# In python log formatters are responsible for defining the structure and content of log messages.\n",
    "# they determine how log message will be formated before being ouputed to various destinations such as console,files,\n",
    "    # or network sockets.\n",
    "# we can customize the appearnce of log messages by specifying the desired format, timestamp, log level,\n",
    "    # logger name, message  content and other information.\n",
    "# we can cistomize the log messages using foramatter by using following steps.\n",
    "# 1. import logging.\n",
    "import logging\n",
    "\n",
    "# 2. create a Logger.\n",
    "logger = logging.getLogger(\"my_logger\")\n",
    "\n",
    "# 3. create a formattter.\n",
    "formatter = logging.Formatter('%(asctime)s - %(name)s - %(levelname)s - %(message)s')\n",
    "\n",
    "# 4. create a handler.\n",
    "handler = logging.StreamHandler() \n",
    "\n",
    "# 5. set a formatter for a handler.\n",
    "handler.setFormatter(formatter)\n",
    "\n",
    "# 6. add a handler to the logger.\n",
    "logger.addHandler(handler)\n",
    "\n",
    "# 7. log messages.\n",
    "logger.info('This is an informational message')\n",
    "logger.error('An error occurred')\n"
   ]
  },
  {
   "cell_type": "code",
   "execution_count": 2,
   "id": "ae6ca225",
   "metadata": {},
   "outputs": [
    {
     "name": "stderr",
     "output_type": "stream",
     "text": [
      "2023-07-06 09:30:59,494 - __main__ - DEBUG - this is debug message \n",
      "2023-07-06 09:30:59,497 - __main__ - INFO - this is inforamtion message \n",
      "2023-07-06 09:30:59,500 - __main__ - WARNING - this is warning message \n",
      "2023-07-06 09:30:59,502 - __main__ - ERROR - this is error message \n"
     ]
    }
   ],
   "source": [
    "### 8. How can you set up logging to capture log messages from multiple modules or classes in a Python application?\n",
    "\n",
    "# Ans:\n",
    "# by following blow steps we can we can capture log messages from multiple modules or classes in a python application\n",
    "# following steps we need to follow:\n",
    "\n",
    "# 1] import logging.\n",
    "import logging\n",
    "\n",
    "# 2] configure the root logger.\n",
    "logging.basicConfig(level=logging.DEBUG, format = '%(asctime)s - %(name)s - %(levelname)s - %(message)s ')\n",
    "\n",
    "# 3] create a logger in module or classes.\n",
    "logger = logging.getLogger(__name__)\n",
    "\n",
    "# 4] log messages. the log messages will be captured and handled by root loggers.\n",
    "logger.debug('this is debug message')\n",
    "logger.info('this is inforamtion message')\n",
    "logger.warning('this is warning message')\n",
    "logger.error('this is error message')\n",
    "\n"
   ]
  },
  {
   "cell_type": "code",
   "execution_count": null,
   "id": "d547f441",
   "metadata": {},
   "outputs": [],
   "source": [
    "### 9. What is the difference between the logging and print statements in Python? \n",
    "    # When should you use logging over print statements in a real-world application?\n",
    "    \n",
    "# Ans:\n",
    "# difference between logging and print:\n",
    "# 1] ouput destination:\n",
    "    # the print statement send the output to the console.\n",
    "    # logging allows us to send the ouput at multiple destinations like console,log files,network socket and email.\n",
    "    \n",
    "# 2] configurality:\n",
    "    # The print statemnt provides limited configurality.\n",
    "    # The logging provides extensive configuration allows us set log levels,log messages,set log destination\n",
    "     # and configure log filtering based on their severity.\n",
    "        \n",
    "# 3] log levels:\n",
    "    # The print statement have not built-in log levels and treats all threats equally.\n",
    "    # the logging have debug,info,warning,error and critical log levels which can differentiate the threats.\n",
    "    \n",
    "# 4] error handling:\n",
    "    # print statemnt are easier to debug for simple script.\n",
    "    # logging can handle real world threats.\n",
    "    \n",
    "# In real world application it is beeter to use logging over print statment.\n",
    "# 1] flexibility:\n",
    "    # logging allows us to customize the log messages, create a logging format, and output it to various destinations.\n",
    "    \n",
    "# 2] debugging and trouble shooting:\n",
    "    # logging provides an systematic way to tracks and record log messages,\n",
    "        #these logs can be very helpful to dubug the code in real world application.\n",
    "\n",
    "# 3] production readiness:\n",
    "    # in python logging is designed to suitable for production readiness.\n",
    "\n",
    "# 4] maintability:\n",
    "    #  Using logging instead of print statements ensures that log messages are structured consistently throughout the application. \n",
    "        #It makes it easier to manage and analyze logs in the long term, as logs can be easily searched, \n",
    "        #filtered, and analyzed using various logging tools.\n",
    "\n"
   ]
  },
  {
   "cell_type": "code",
   "execution_count": 4,
   "id": "adbc95bd",
   "metadata": {},
   "outputs": [
    {
     "name": "stderr",
     "output_type": "stream",
     "text": [
      "2023-07-06 10:14:11,507 - root - INFO - Hello World \n"
     ]
    }
   ],
   "source": [
    "### 10. Write a Python program that logs a message to a file named \"app.log\" with the following requirements:\n",
    "#● The log message should be \"Hello, World!\"\n",
    "#● The log level should be set to \"INFO.\"\n",
    "#● The log file should append new log entries without overwriting previous ones.\n",
    "\n",
    "# Ans:\n",
    "import logging\n",
    "\n",
    "logging.basicConfig(filename='app.log', level=logging.INFO, filemode='a', format='%(asctime)s - %(levelname)s - %(message)s')\n",
    "\n",
    "# file name is 'app.log'.\n",
    "# log-level is set to info.\n",
    "# filemode is 'a' means a append mode that can append new entity without overwriting it.\n",
    "# format is set time,levelname,message.\n",
    "\n",
    "# logging message.\n",
    "logging.info('Hello World')"
   ]
  },
  {
   "cell_type": "code",
   "execution_count": 9,
   "id": "30b1d536",
   "metadata": {},
   "outputs": [
    {
     "name": "stderr",
     "output_type": "stream",
     "text": [
      "2023-07-06 10:20:27,227 - root - ERROR - Exception: ZeroDivisionError | Timestamp: 2023-07-06 10:20:27 \n"
     ]
    }
   ],
   "source": [
    "### 11. Create a Python program that logs an error message to the console and a file named\n",
    "    #\"errors.log\" if an exception occurs during the program's execution. The error\n",
    "    # message should include the exception type and a timestamp.\n",
    "    \n",
    "# Ans:\n",
    "import logging # import logging.\n",
    "import datetime # import datetime.\n",
    "\n",
    "# Configure logging to write to console and file:\n",
    "logging.basicConfig(level=logging.ERROR,format='%(asctime)s - %(levelname)s - %(message)s',\n",
    "                    handlers=[logging.StreamHandler(),logging.FileHandler('errors.log')])\n",
    "\n",
    "try:\n",
    "    \n",
    "    1 / 0 # Code  may raise an exception:\n",
    "\n",
    "except Exception as e:\n",
    "    # Log the exception with timestamp\n",
    "    timestamp = datetime.datetime.now().strftime('%Y-%m-%d %H:%M:%S') # structure of timestamp.\n",
    "    error_message = f\"Exception: {type(e).__name__} | Timestamp: {timestamp}\"\n",
    "    logging.error(error_message)"
   ]
  },
  {
   "cell_type": "code",
   "execution_count": null,
   "id": "2a5f70f1",
   "metadata": {},
   "outputs": [],
   "source": []
  }
 ],
 "metadata": {
  "kernelspec": {
   "display_name": "Python 3 (ipykernel)",
   "language": "python",
   "name": "python3"
  },
  "language_info": {
   "codemirror_mode": {
    "name": "ipython",
    "version": 3
   },
   "file_extension": ".py",
   "mimetype": "text/x-python",
   "name": "python",
   "nbconvert_exporter": "python",
   "pygments_lexer": "ipython3",
   "version": "3.10.9"
  }
 },
 "nbformat": 4,
 "nbformat_minor": 5
}
