{
 "cells": [
  {
   "cell_type": "markdown",
   "id": "4e903d3f",
   "metadata": {},
   "source": [
    "1. In the below elements which of them are values or an expression? eg:- values can be\n",
    "integer or string and expressions will be mathematical operators.\n",
    "*       : expression\n",
    "'hello' : value\n",
    "-87.8   : value\n",
    "-       : expression\n",
    "/       : expression\n",
    "+       : expression\n",
    "6       : value"
   ]
  },
  {
   "cell_type": "markdown",
   "id": "5b4c5652",
   "metadata": {},
   "source": [
    "2. What is the difference between string and variable?\n",
    "\n",
    "Sting is a alphanumeric value, for exmaple you can define it as var = 'string'.\n",
    "\n",
    "Variables are the containers of values, it has data type and contain for example integers, strings, float etc."
   ]
  },
  {
   "cell_type": "markdown",
   "id": "603cc68d",
   "metadata": {},
   "source": [
    "3. Describe three different data types.\n",
    "\n",
    "String  : a alphanumeric series\n",
    "Integer : a numeric value\n",
    "Float   : a decimal value"
   ]
  },
  {
   "cell_type": "markdown",
   "id": "45dd9f7c",
   "metadata": {},
   "source": [
    "4. What is an expression made up of? What do all expressions do?\n",
    "\n",
    "An expression has 2 or more than 2 numbers and atleast 1 mathematical operator, they are used to perform mathematical operations.\n",
    "for ex :\n",
    "    2+3\n",
    "    4-5\n",
    "    3/9\n",
    "    5*4"
   ]
  },
  {
   "cell_type": "markdown",
   "id": "b94032ac",
   "metadata": {},
   "source": [
    "5. This assignment statements, like spam = 10. What is the difference between an\n",
    "expression and a statement?\n",
    "\n",
    "in spam =10\n",
    "an assignment is happening. \n",
    "\n",
    "in a expression a mathematic operation is necessary. but here 10 is getting assigned to vauriable named spam."
   ]
  },
  {
   "cell_type": "markdown",
   "id": "e65c5b01",
   "metadata": {},
   "source": [
    "6. After running the following code, what does the variable bacon contain?\n",
    "bacon = 22\n",
    "bacon + 1\n",
    "\n",
    "it will cotain 22."
   ]
  },
  {
   "cell_type": "markdown",
   "id": "68eb7217",
   "metadata": {},
   "source": [
    "7. What should the values of the following two terms be?\n",
    "'spam' + 'spamspam'\n",
    "'spam' *3\n",
    "\n",
    "'spamspamspam'\n",
    "'spamspamspam'"
   ]
  },
  {
   "cell_type": "markdown",
   "id": "c146bee2",
   "metadata": {},
   "source": [
    "8. Why is eggs a valid variable name while 100 is invalid?\n",
    "\n",
    "100 is starting with numerical. cant do that in python."
   ]
  },
  {
   "cell_type": "markdown",
   "id": "4960591c",
   "metadata": {},
   "source": [
    "9. What three functions can be used to get the integer, floating-point number, or string\n",
    "version of a value?\n",
    "\n",
    "int()\n",
    "float()\n",
    "str()\n",
    "\n",
    "these can be use to get integer, floating point and string version of a value respectively."
   ]
  },
  {
   "cell_type": "markdown",
   "id": "cc90afb1",
   "metadata": {},
   "source": [
    "10. Why does this expression cause an error? How can you fix it?\n",
    "'l have eaten ' + 99 + ' burritos.'\n",
    "\n",
    "Because we are trying to do a mathematic operation in betweena string and an integer.\n",
    "we can fix it like this \n",
    "\n",
    "'l have eaten ' + '99' + ' burritos.'"
   ]
  }
 ],
 "metadata": {
  "kernelspec": {
   "display_name": "Python 3 (ipykernel)",
   "language": "python",
   "name": "python3"
  },
  "language_info": {
   "codemirror_mode": {
    "name": "ipython",
    "version": 3
   },
   "file_extension": ".py",
   "mimetype": "text/x-python",
   "name": "python",
   "nbconvert_exporter": "python",
   "pygments_lexer": "ipython3",
   "version": "3.9.7"
  }
 },
 "nbformat": 4,
 "nbformat_minor": 5
}
