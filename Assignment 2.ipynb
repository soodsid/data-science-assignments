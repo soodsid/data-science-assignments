{
 "cells": [
  {
   "cell_type": "code",
   "execution_count": null,
   "id": "441c3758",
   "metadata": {},
   "outputs": [],
   "source": [
    "1.What are the two values of the Boolean data type? How do you write them?\n",
    "\n",
    "The two values are True and False.\n",
    "\n",
    "we can write them as follows:\n",
    "    a=True\n",
    "    b=False"
   ]
  },
  {
   "cell_type": "code",
   "execution_count": null,
   "id": "94f62e86",
   "metadata": {},
   "outputs": [],
   "source": [
    "2. What are the three different types of Boolean operators?\n",
    "\n",
    "they are and, or, not."
   ]
  },
  {
   "cell_type": "code",
   "execution_count": null,
   "id": "16005228",
   "metadata": {},
   "outputs": [],
   "source": [
    "3. Make a list of each Boolean operator&#39;s truth tables (i.e. every possible combination of Boolean\n",
    "values for the operator and what it evaluate ).\n",
    "\n",
    "And:\n",
    "    1  1  1\n",
    "    1  0  0\n",
    "    0  1  0\n",
    "    0  0  0\n",
    "\n",
    "Or:\n",
    "    1  1  1\n",
    "    1  0  1\n",
    "    0  1  1\n",
    "    0  0  0\n",
    "    \n",
    "not: \n",
    "    1 0\n",
    "    0 1"
   ]
  },
  {
   "cell_type": "code",
   "execution_count": null,
   "id": "62a5bd30",
   "metadata": {},
   "outputs": [],
   "source": [
    "4. What are the values of the following expressions?\n",
    "(5 > 4) and (3 == 5) : False\n",
    "not (5 > 4) : False\n",
    "(5 > 4) or (3 == 5) : True\n",
    "not ((5 > 4) or (3 == 5)) : False\n",
    "(True and True) and (True == False) : False\n",
    "(not False) or (not True) : True"
   ]
  },
  {
   "cell_type": "code",
   "execution_count": null,
   "id": "c5d9d55f",
   "metadata": {},
   "outputs": [],
   "source": [
    "5. What are the six comparison operators?\n",
    "\n",
    "greater than \">\"\n",
    "smaller than \"<\"\n",
    "greater or equal to \">=\"\n",
    "smaller or equal to \"<=\"\n",
    "equal to \"=\"\n",
    "not equal to \"=\""
   ]
  },
  {
   "cell_type": "code",
   "execution_count": null,
   "id": "48801a65",
   "metadata": {},
   "outputs": [],
   "source": [
    "6. How do you tell the difference between the equal to and assignment operators? Describe a\n",
    "condition and when you would use one.\n",
    "\n",
    "When we check the equal 2 signs are used \"==\"\n",
    "when we assign 1 sign is used \"=\"\n",
    "\n",
    "for eg: \n",
    "\n",
    "if (a==b):\n",
    "    s=23"
   ]
  },
  {
   "cell_type": "code",
   "execution_count": null,
   "id": "5ae8b293",
   "metadata": {},
   "outputs": [],
   "source": [
    "7. Identify the three blocks in this code:\n",
    "spam = 0\n",
    "if spam == 10:\n",
    "    print('eggs')\n",
    "if spam > 5:\n",
    "    print('bacon')\n",
    "else:\n",
    "    print('ham')\n",
    "    print('spam')\n",
    "    print('spam')\n",
    "    \n",
    "3 blocks: \n",
    "    if spam is 10\n",
    "    if spam is grater than 5\n",
    "    if spam is not equal and smaller than 5"
   ]
  },
  {
   "cell_type": "code",
   "execution_count": null,
   "id": "560f2ad6",
   "metadata": {},
   "outputs": [],
   "source": [
    "8. Write code that prints Hello if 1 is stored in spam, prints Howdy if 2 is stored in spam, and prints\n",
    "Greetings! if anything else is stored in spam.\n",
    "\n",
    "\n",
    "spam= int(input(\"enter number\"))\n",
    "if spam ==1:\n",
    "    print (\"hello\")\n",
    "elif spam==2:\n",
    "    print (\"howdy\")\n",
    "else:\n",
    "    print (\"Greetings!\")"
   ]
  },
  {
   "cell_type": "code",
   "execution_count": null,
   "id": "042ada92",
   "metadata": {},
   "outputs": [],
   "source": [
    "9.If your programme is stuck in an endless loop, what keys you’ll press?\n",
    "\n",
    "ctrl+c"
   ]
  },
  {
   "cell_type": "code",
   "execution_count": 8,
   "id": "1ae12ab4",
   "metadata": {},
   "outputs": [
    {
     "ename": "SyntaxError",
     "evalue": "invalid syntax (596450081.py, line 3)",
     "output_type": "error",
     "traceback": [
      "\u001b[1;36m  Cell \u001b[1;32mIn[8], line 3\u001b[1;36m\u001b[0m\n\u001b[1;33m    Break stops the loop and go to the next code.\u001b[0m\n\u001b[1;37m          ^\u001b[0m\n\u001b[1;31mSyntaxError\u001b[0m\u001b[1;31m:\u001b[0m invalid syntax\n"
     ]
    }
   ],
   "source": [
    "10. How can you tell the difference between break and continue?\n",
    "\n",
    "Break stops the loop and go to the next code.\n",
    "Contiue stop that specific itteration and continue the loop"
   ]
  },
  {
   "cell_type": "code",
   "execution_count": 11,
   "id": "d15597e4",
   "metadata": {},
   "outputs": [
    {
     "name": "stdout",
     "output_type": "stream",
     "text": [
      "0\n",
      "1\n",
      "2\n",
      "3\n",
      "4\n",
      "5\n",
      "6\n",
      "7\n",
      "8\n",
      "9\n"
     ]
    }
   ],
   "source": [
    "11. In a for loop, what is the difference between range(10), range(0, 10), and range(0, 10, 1)?\n",
    "\n",
    "range(10) : it means loop wil run from 0 to 9. [here we mention the endpoint only as the default start is 0]\n",
    "range(0,10): it is same as range(10) [here we mentioned start and the end (exclusive)]\n",
    "range(0,10,1): it is also same [here we also told take 1 step at a time]"
   ]
  },
  {
   "cell_type": "code",
   "execution_count": 13,
   "id": "b8cf986b",
   "metadata": {},
   "outputs": [
    {
     "name": "stdout",
     "output_type": "stream",
     "text": [
      "1\n",
      "2\n",
      "3\n",
      "4\n",
      "5\n",
      "6\n",
      "7\n",
      "8\n",
      "9\n",
      "10\n",
      "1\n",
      "2\n",
      "3\n",
      "4\n",
      "5\n",
      "6\n",
      "7\n",
      "8\n",
      "9\n",
      "10\n"
     ]
    }
   ],
   "source": [
    "12. Write a short program that prints the numbers 1 to 10 using a for loop. Then write an equivalent\n",
    "program that prints the numbers 1 to 10 using a while loop.\n",
    "\n",
    "for i in range(10):\n",
    "    print (i+1)\n",
    "    \n",
    "i=1\n",
    "while (i<=10):\n",
    "    print(i)\n",
    "    i+=1"
   ]
  },
  {
   "cell_type": "code",
   "execution_count": null,
   "id": "b80140d7",
   "metadata": {},
   "outputs": [],
   "source": [
    "13. If you had a function named bacon() inside a module named spam, how would you call it after\n",
    "importing spam?\n",
    "\n",
    "import spam\n",
    "bacon()"
   ]
  }
 ],
 "metadata": {
  "kernelspec": {
   "display_name": "Python 3 (ipykernel)",
   "language": "python",
   "name": "python3"
  },
  "language_info": {
   "codemirror_mode": {
    "name": "ipython",
    "version": 3
   },
   "file_extension": ".py",
   "mimetype": "text/x-python",
   "name": "python",
   "nbconvert_exporter": "python",
   "pygments_lexer": "ipython3",
   "version": "3.10.9"
  }
 },
 "nbformat": 4,
 "nbformat_minor": 5
}
