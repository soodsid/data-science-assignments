 
 "cells": [
  {
   "cell_type": "code",
   "execution_count": null,
   "id": "a2fef734",
   "metadata": {},
   "outputs": [],
   "source": [
    "1. Why are functions advantageous to have in your programs?\n",
    "\n",
    "It can create a block of code which can be called from anywhere in the program, hence making that block of code more accessible and easier to use.\n",
    "\n",
    "Some common advantages would also include:\n",
    "    Keeps the program structured and understandable\n",
    "    Can be reused countless times after it is defined"
   ]
  },
  {
   "cell_type": "code",
   "execution_count": null,
   "id": "83689b3c",
   "metadata": {},
   "outputs": [],
   "source": [
    "2. When does the code in a function run: when it&#39;s specified or when it&#39;s called?\n",
    "    \n",
    "The code in a function run when it is called."
   ]
  },
  {
   "cell_type": "code",
   "execution_count": null,
   "id": "13dd1279",
   "metadata": {},
   "outputs": [],
   "source": [
    "3. What statement creates a function?\n",
    "\n",
    "To define a function you write the statement as\n",
    "\n",
    "def myfunc():\n",
    "    pass\n",
    "\n",
    "#calling the function\n",
    "\n",
    "myfunc()"
   ]
  },
  {
   "cell_type": "code",
   "execution_count": null,
   "id": "33f7c513",
   "metadata": {},
   "outputs": [],
   "source": [
    "4. What is the difference between a function and a function call?\n",
    "\n",
    "the function term is usually used for the place where the function is defined\n",
    "\n",
    "for eg: \n",
    "    def sum():\n",
    "        print a+b\n",
    "\n",
    "a function call is the code which is actually calling/running the function\n",
    "\n",
    "For eg:\n",
    "    \n",
    "sum()"
   ]
  },
  {
   "cell_type": "code",
   "execution_count": null,
   "id": "a2ce3cc0",
   "metadata": {},
   "outputs": [],
   "source": [
    "5. How many global scopes are there in a Python program? How many local scopes?\n",
    "\n",
    "In python there is only one global scope and any variable created in that can be used by anyone\n",
    "\n",
    "Local scopes can be many, as you can define multiple functions."
   ]
  },
  {
   "cell_type": "code",
   "execution_count": null,
   "id": "6190220a",
   "metadata": {},
   "outputs": [],
   "source": [
    "6. What happens to variables in a local scope when the function call returns?\n",
    "\n",
    "Local scope varaible exist only when the function is running. when the return is called all the local variables are destriyed and are no longer accessible"
   ]
  },
  {
   "cell_type": "code",
   "execution_count": null,
   "id": "31ac7bb4",
   "metadata": {},
   "outputs": [],
   "source": [
    "7. What is the concept of a return value? Is it possible to have a return value in an expression?\n",
    "\n",
    "A return value is a value that a function returns to the calling code. The return statement is used to instruct a program to leave the function and go back to place where the function was called.\n",
    "Yes, it is possible to have a return value in an expression"
   ]
  },
  {
   "cell_type": "code",
   "execution_count": null,
   "id": "fde64d32",
   "metadata": {},
   "outputs": [],
   "source": [
    "8. If a function does not have a return statement, what is the return value of a call to that function?\n",
    "\n",
    "NONE"
   ]
  },
  {
   "cell_type": "code",
   "execution_count": null,
   "id": "f95b1e96",
   "metadata": {},
   "outputs": [],
   "source": [
    "9. How do you make a function variable refer to the global variable?\n",
    "\n",
    "You can change the function variable scope to global by just using the global keyword.\n",
    "\n",
    "if you want to use a global variable inside a function we can do it normally.\n",
    "\n",
    "for ex:\n",
    "    \n",
    "    a=10\n",
    "    def myfun():\n",
    "        print(a)\n",
    "        global b=20\n",
    "        print(b)\n",
    "    \n",
    "    myfun()\n",
    "    print(b)"
   ]
  },
  {
   "cell_type": "code",
   "execution_count": null,
   "id": "10385d68",
   "metadata": {},
   "outputs": [],
   "source": [
    "10. What is the data type of None?\n",
    "\n",
    "NoneType"
   ]
  },
  {
   "cell_type": "code",
   "execution_count": 1,
   "id": "426ad1b5",
   "metadata": {},
   "outputs": [
    {
     "data": {
      "text/plain": [
       "NoneType"
      ]
     },
     "execution_count": 1,
     "metadata": {},
     "output_type": "execute_result"
    }
   ],
   "source": [
    "a=None\n",
    "\n",
    "type(a)"
   ]
  },
  {
   "cell_type": "code",
   "execution_count": null,
   "id": "e43c15fa",
   "metadata": {},
   "outputs": [],
   "source": [
    "11. What does the sentence import areallyourpetsnamederic do?\n",
    "\n",
    "it will call a library named areallyourpetnamederic"
   ]
  },
  {
   "cell_type": "code",
   "execution_count": null,
   "id": "e2a358cb",
   "metadata": {},
   "outputs": [],
   "source": [
    "12. If you had a bacon() feature in a spam module, what would you call it after importing spam?\n",
    "\n",
    "import spam\n",
    "bacon()\n"
   ]
  },
  {
   "cell_type": "code",
   "execution_count": null,
   "id": "abd80f47",
   "metadata": {},
   "outputs": [],
   "source": [
    "13. What can you do to save a programme from crashing if it encounters an error?\n",
    "\n",
    "we can use a concept of try and except.\n",
    "\n",
    "the concept is called error handling, by using it we can rectify crashes in the program when there is an error."
   ]
  },
  {
   "cell_type": "code",
   "execution_count": null,
   "id": "f26ca5f7",
   "metadata": {},
   "outputs": [],
   "source": [
    "14. What is the purpose of the try clause? What is the purpose of the except clause?\n",
    "\n",
    "Try clasue is used when we suspect that the code may throw up an error and we need to handle it.\n",
    "the except clause runs a code a whenever there is an error in the code of try clause"
   ]
  }
 ],
 "metadata": {
  "kernelspec": {
   "display_name": "Python 3 (ipykernel)",
   "language": "python",
   "name": "python3"
  },
  "language_info": {
   "codemirror_mode": {
    "name": "ipython",
    "version": 3
   },
   "file_extension": ".py",
   "mimetype": "text/x-python",
   "name": "python",
   "nbconvert_exporter": "python",
   "pygments_lexer": "ipython3",
   "version": "3.9.7"
  }
 },
 "nbformat": 4,
 "nbformat_minor": 5
}
