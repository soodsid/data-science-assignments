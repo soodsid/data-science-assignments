{
 "cells": [
  {
   "cell_type": "code",
   "execution_count": null,
   "id": "c6d37ecc",
   "metadata": {},
   "outputs": [],
   "source": [
    "1. What exactly is []?\n",
    "\n",
    "The square bracket are used in python to define a list"
   ]
  },
  {
   "cell_type": "code",
   "execution_count": null,
   "id": "0535fa70",
   "metadata": {},
   "outputs": [],
   "source": [
    "2. In a list of values stored in a variable called spam, how would you assign the value &#39;hello&#39; as the\n",
    "third value? (Assume [2, 4, 6, 8, 10] are in spam.)\n",
    "\n",
    "spam[2]=\"hello\""
   ]
  },
  {
   "cell_type": "code",
   "execution_count": null,
   "id": "8a8c8db1",
   "metadata": {},
   "outputs": [],
   "source": [
    "Let&#39;s pretend the spam includes the list [&#39;a&#39;, &#39;b&#39;, &#39;c&#39;, &#39;d&#39;] for the next three queries.\n",
    "3. What is the value of spam[int(int(&#39;3&#39; * 2) / 11)]?\n",
    "\n",
    "spam=['a','b','c','d']\n",
    "spam[int(int('3' * 2) / 11)] ---> 'd'"
   ]
  },
  {
   "cell_type": "code",
   "execution_count": null,
   "id": "2fd22dde",
   "metadata": {},
   "outputs": [],
   "source": [
    "4. What is the value of spam[-1]?\n",
    "\n",
    "spam[-1] ---> 'd'"
   ]
  },
  {
   "cell_type": "code",
   "execution_count": null,
   "id": "3a4e48b8",
   "metadata": {},
   "outputs": [],
   "source": [
    "5. What is the value of spam[:2]?\n",
    "\n",
    "spam[:2] ---> ['a', 'b']"
   ]
  },
  {
   "cell_type": "code",
   "execution_count": null,
   "id": "ccdb0b68",
   "metadata": {},
   "outputs": [],
   "source": [
    "Let&#39;s pretend bacon has the list [3.14, &#39;cat,&#39; 11, &#39;cat,&#39; True] for the next three questions.\n",
    "6. What is the value of bacon.index(&#39;cat&#39;)? \n",
    "\n",
    "bacon=[3.14, 'cat', 11, 'cat', True]\n",
    "bacon.index('cat') ---> 1"
   ]
  },
  {
   "cell_type": "code",
   "execution_count": null,
   "id": "7ed4161a",
   "metadata": {},
   "outputs": [],
   "source": [
    "7. How does bacon.append(99) change the look of the list value in bacon?\n",
    "\n",
    "[3.14, 'cat', 11, 'cat', True, 99]"
   ]
  },
  {
   "cell_type": "code",
   "execution_count": null,
   "id": "be1422ad",
   "metadata": {},
   "outputs": [],
   "source": [
    "8. How does bacon.remove('cat') change the look of the list in bacon?\n",
    "\n",
    "[3.14, 11, 'cat', True, 99]"
   ]
  },
  {
   "cell_type": "code",
   "execution_count": null,
   "id": "65efabd7",
   "metadata": {},
   "outputs": [],
   "source": [
    "9. What are the list concatenation and list replication operators?\n",
    "\n",
    "we can use the operators + and * to concatenate and replicate lists. \n",
    "\n",
    "When + appears between two lists, the new list contains the elements from both lists.\n",
    "\n",
    "When * appears between a list and an integer, the expression will be evaluated as a new list that contains n copies of the original list"
   ]
  },
  {
   "cell_type": "code",
   "execution_count": null,
   "id": "2c149fbb",
   "metadata": {},
   "outputs": [],
   "source": [
    "10. What is difference between the list methods append() and insert()?\n",
    "\n",
    "Append is used to put the value at the end of the list.\n",
    "whereas you can provide a index in insert and put the values at the specific indexes"
   ]
  },
  {
   "cell_type": "code",
   "execution_count": null,
   "id": "fe0f84cf",
   "metadata": {},
   "outputs": [],
   "source": [
    "11. What are the two methods for removing items from a list?\n",
    "\n",
    "list1.remove()\n",
    "list1.pop()"
   ]
  },
  {
   "cell_type": "code",
   "execution_count": null,
   "id": "4349f6c7",
   "metadata": {},
   "outputs": [],
   "source": [
    "12. Describe how list values and string values are identical.\n",
    "\n",
    "list values are accesible using the index in the same way we can use index to get characters out of a string"
   ]
  },
  {
   "cell_type": "code",
   "execution_count": null,
   "id": "943925f8",
   "metadata": {},
   "outputs": [],
   "source": [
    "13. What&#39;s the difference between tuples and lists?\n",
    "tuples are immutable whereas lists are mutable in python"
   ]
  },
  {
   "cell_type": "code",
   "execution_count": null,
   "id": "3445dc5d",
   "metadata": {},
   "outputs": [],
   "source": [
    "14. How do you type a tuple value that only contains the integer 42?\n",
    "\n",
    "tup=tuple((42,))"
   ]
  },
  {
   "cell_type": "code",
   "execution_count": null,
   "id": "d1518440",
   "metadata": {},
   "outputs": [],
   "source": [
    "15. How do you get a list value&#39;s tuple form? How do you get a tuple value&#39;s list form?\n",
    "\n",
    "a=[1,2,3,4]\n",
    "b=tuple(a)\n",
    "print (b)\n",
    "c=list(b)\n",
    "print(c)\n",
    "\n",
    "the question is pretty confusing but i feel like this answer does provide \"list's value in tuple form\" & \"tuple's values in list form\""
   ]
  },
  {
   "cell_type": "code",
   "execution_count": 1,
   "id": "4e231f3e",
   "metadata": {},
   "outputs": [
    {
     "name": "stdout",
     "output_type": "stream",
     "text": [
      "(1, 2, 3, 4)\n"
     ]
    }
   ],
   "source": [
    "16. Variables that &quot;contain&quot; list values are not necessarily lists themselves. Instead, what do they\n",
    "contain?\n",
    "\n",
    "it can contain heterogeneous data, such as variables, other lists, tuples, string or dictionaries"
   ]
  },
  {
   "cell_type": "code",
   "execution_count": null,
   "id": "a308f477",
   "metadata": {},
   "outputs": [],
   "source": [
    "17. How do you distinguish between copy.copy() and copy.deepcopy()?\n",
    "\n",
    "In simple words if we are using copy.copy and '=' for assignment. the new variable will contain the reference to the original object and will not create a copy of object.\n",
    "Whereas in case of the deepcopy() it will first contain a new object then copy the data of the orignal object into this new object and assign the variable a reference to this newly created object."
   ]
  },
  {
   "cell_type": "code",
   "execution_count": null,
   "id": "cfde716c",
   "metadata": {},
   "outputs": [],
   "source": []
  },
  {
   "cell_type": "code",
   "execution_count": null,
   "id": "f75c45be",
   "metadata": {},
   "outputs": [],
   "source": []
  },
  {
   "cell_type": "code",
   "execution_count": null,
   "id": "096f2c7a",
   "metadata": {},
   "outputs": [],
   "source": []
  },
  {
   "cell_type": "code",
   "execution_count": null,
   "id": "c48956ac",
   "metadata": {},
   "outputs": [],
   "source": []
  }
 ],
 "metadata": {
  "kernelspec": {
   "display_name": "Python 3 (ipykernel)",
   "language": "python",
   "name": "python3"
  },
  "language_info": {
   "codemirror_mode": {
    "name": "ipython",
    "version": 3
   },
   "file_extension": ".py",
   "mimetype": "text/x-python",
   "name": "python",
   "nbconvert_exporter": "python",
   "pygments_lexer": "ipython3",
   "version": "3.11.4"
  }
 },
 "nbformat": 4,
 "nbformat_minor": 5
}
