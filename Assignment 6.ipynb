{
 "cells": [
  {
   "cell_type": "code",
   "execution_count": null,
   "id": "43bf061f",
   "metadata": {},
   "outputs": [],
   "source": [
    "1.What are keywords in Python? Using the keyword library, print all the Python keywords.\n",
    "python.\n",
    "\n",
    "\n",
    "Keywords in Python are reserved words with predefined roles and meanings within the language and They cannot be used as variable names.\n",
    "\n",
    "import keyword\n",
    "print(keyword.kwlist)"
   ]
  },
  {
   "cell_type": "code",
   "execution_count": null,
   "id": "08ae2de3",
   "metadata": {},
   "outputs": [],
   "source": [
    "2.What are the rules to create variables in Python?\n",
    "\n",
    "Variables in Python have to follow these rules:\n",
    "\n",
    "- Must start with a letter (a-z, A-Z) or an underscore (_)\n",
    "- Can be followed by letters, numbers, or underscores\n",
    "- Variable name can only contain alphanumeric characters (A-Z, a-z, 0-9) and underscores (_).\n",
    "- Variable name cannot be a keyword or a built-in function.\n"
   ]
  },
  {
   "cell_type": "code",
   "execution_count": null,
   "id": "ca5a364d",
   "metadata": {},
   "outputs": [],
   "source": [
    "3.What are the standards and conventions followed for the nomenclature of variables in Python to improve code readability and maintainability?\n",
    "\n",
    "In Python, variables should follow the snake_case naming convention for better readability and maintenance. This means using lowercase letters with underscores between words."
   ]
  },
  {
   "cell_type": "code",
   "execution_count": null,
   "id": "48ca891a",
   "metadata": {},
   "outputs": [],
   "source": [
    "4.What will happen if a keyword is used as a variable name?\n",
    "\n",
    "If a keyword is used as a variable name, it will result in a syntax error because keywords are reserved and cannot be used as variables."
   ]
  },
  {
   "cell_type": "code",
   "execution_count": null,
   "id": "f4bf3b7d",
   "metadata": {},
   "outputs": [],
   "source": [
    "5. For what purpose is the def keyword used?\n",
    "\n",
    "The def keyword is used to define a function.\n",
    "for ex:\n",
    "    \n",
    "    def fun():\n",
    "        print('have fun')\n",
    "        "
   ]
  },
  {
   "cell_type": "code",
   "execution_count": null,
   "id": "80a7687c",
   "metadata": {},
   "outputs": [],
   "source": [
    "6. What is the operation of the special character \\?\n",
    "\n",
    "The \\ character is used as an escape character in Python. It allows the interpretation of special characters within strings and can also be used for line continuation."
   ]
  },
  {
   "cell_type": "code",
   "execution_count": null,
   "id": "840e6c42",
   "metadata": {},
   "outputs": [],
   "source": [
    "7. GIve an Example of Homogeneous list, Heterogeneous set, and Homogeneous tuple:\n",
    "python\n",
    "\n",
    "# Homogeneous list\n",
    "homogeneous_list = [1, 2, 3, 4, 5]\n",
    "\n",
    "# Heterogeneous set\n",
    "heterogeneous_set = {1, 'apple', 3.14, (2, 3)}\n",
    "\n",
    "# Homogeneous tuple\n",
    "homogeneous_tuple = (10, 20, 30, 40, 50)"
   ]
  },
  {
   "cell_type": "code",
   "execution_count": null,
   "id": "92b62435",
   "metadata": {},
   "outputs": [],
   "source": [
    "8.Explain mutable and immutable data types with proper explanations and examples.\n",
    "\n",
    "In Python, mutable data types can be modified after creation (e.g., lists, dictionaries), while immutable data types cannot be changed once created (e.g., tuples, strings, integers).\n",
    "\n",
    "Example of mutable data type:\n",
    "\n",
    "my_list = [1, 2, 3]\n",
    "my_list.append(4)  # Modifying the list\n",
    "print(my_list)  # Output: [1, 2, 3, 4]\n",
    "\n",
    "Example of immutable data type:\n",
    "\n",
    "my_tuple = (1, 2, 3)\n",
    "# Trying to modify tuple will result in an error\n",
    "# my_tuple[0] = 0  # This will raise an error"
   ]
  },
  {
   "cell_type": "code",
   "execution_count": 3,
   "id": "b3eacbec",
   "metadata": {},
   "outputs": [
    {
     "ename": "IndentationError",
     "evalue": "unindent does not match any outer indentation level (<tokenize>, line 4)",
     "output_type": "error",
     "traceback": [
      "\u001b[1;36m  File \u001b[1;32m<tokenize>:4\u001b[1;36m\u001b[0m\n\u001b[1;33m    ***\u001b[0m\n\u001b[1;37m    ^\u001b[0m\n\u001b[1;31mIndentationError\u001b[0m\u001b[1;31m:\u001b[0m unindent does not match any outer indentation level\n"
     ]
    }
   ],
   "source": [
    "9.Write a code to create the given structure using only a for loop.\n",
    "\n",
    "    *\n",
    "   ***\n",
    "  *****\n",
    " *******\n",
    "*********\n",
    "\n",
    "for i in range(1, 6):\n",
    "    print(' ' * (6-i - 1), '*' * (2 * i - 1))"
   ]
  },
  {
   "cell_type": "code",
   "execution_count": null,
   "id": "a14a57c8",
   "metadata": {},
   "outputs": [],
   "source": [
    "Q.10. Write a code to create the given structure using while loop.\n",
    "|||||||||\n",
    " |||||||\n",
    "  |||||\n",
    "   |||\n",
    "    |\n",
    "    \n",
    "count = 5\n",
    "while count > 0:\n",
    "    print(' ' * (6-count - 1),'|' *( 2* count-1))\n",
    "    count -= 1"
   ]
  }
 ],
 "metadata": {
  "kernelspec": {
   "display_name": "Python 3 (ipykernel)",
   "language": "python",
   "name": "python3"
  },
  "language_info": {
   "codemirror_mode": {
    "name": "ipython",
    "version": 3
   },
   "file_extension": ".py",
   "mimetype": "text/x-python",
   "name": "python",
   "nbconvert_exporter": "python",
   "pygments_lexer": "ipython3",
   "version": "3.11.4"
  }
 },
 "nbformat": 4,
 "nbformat_minor": 5
}
