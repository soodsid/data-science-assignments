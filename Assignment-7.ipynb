{
 "cells": [
  {
   "cell_type": "markdown",
   "id": "6efbee12",
   "metadata": {},
   "source": [
    "# Python Basic-2"
   ]
  },
  {
   "cell_type": "code",
   "execution_count": 10,
   "id": "87f481bf",
   "metadata": {},
   "outputs": [
    {
     "name": "stdout",
     "output_type": "stream",
     "text": [
      "First variable is 10\n",
      "& Second variable is 20\n",
      "Addition : a + b = 30\n",
      "subtraction : a - b = 30\n",
      "Multiplication : a * b = 200\n",
      "Division : a / b = 0.5\n"
     ]
    }
   ],
   "source": [
    "### Q.1. Create two int type variables, apply addition, subtraction, division and multiplications\n",
    "#and store the results in variables. Then print the data in the following format by calling the\n",
    "#variables:\n",
    "#Ans:\n",
    "    \n",
    "a = int(input('First variable is '))\n",
    "b = int(input('& Second variable is '))\n",
    "\n",
    "#First variable is 'a' & second variable is 'b'.\n",
    "#Addition: \n",
    "c = a + b\n",
    "print('Addition : a + b =',c)\n",
    "    \n",
    "#Subtraction: \n",
    "d = a + b\n",
    "print('subtraction : a - b =',d)\n",
    "    \n",
    "#Multiplication: \n",
    "e = a * b\n",
    "print('Multiplication : a * b =',e)\n",
    "    \n",
    "#Division: \n",
    "f = a / b\n",
    "print('Division : a / b =',f)"
   ]
  },
  {
   "cell_type": "code",
   "execution_count": null,
   "id": "7206f56d",
   "metadata": {},
   "outputs": [],
   "source": [
    "### Q.2. What is the difference between the following operators:\n",
    "#(i) ‘/’ & ‘//’\n",
    "#(ii) ‘**’ & ‘^’\n",
    "#Ans:\n",
    "#(i)'/'and '//'.\n",
    "# '/' is a division operator which perform divisional operation and show the output as per the arithmatic.\n",
    "    # It gives the output following the general mathematics rule, it can be float or complete number.\n",
    "    # example: 10 / 3 = 3.33\n",
    "# '//'is also a division operator but it gives always complete integer not the float value.\n",
    "    # example: 10 // 3 = 3\n",
    "    \n",
    "#(ii)'**' & '^'.\n",
    "# '**' is used to assign the power to the variable like **2 power to two,**3 power to 3,**4 power to the 4.\n",
    "    # 10 ** 2 = 100[ 10 * 10]\n",
    "    # 10 ** 3 = 1000[10*10*10]\n",
    "# '^' is used to perform bitwise xor operations..it plays with binary numbers of a variable and get the desired output.\n",
    "    # it convert the numerical into binary number and perform xor operation then return it into numeric number.\n",
    "    # 5 ^ 3 = 6 but how it works.\n",
    "    # binary of 5 is '101' and binary of 3 is '011'..\n",
    "    # XOR operator gives 1 when one of the value is 0 and it gives 0 when both values are same.\n",
    "    # 101 + 011 = 110 which is the binary of '6'..\n",
    "    # in python we can find binary number using 'bin()'function."
   ]
  },
  {
   "cell_type": "code",
   "execution_count": 32,
   "id": "dc7c8122",
   "metadata": {},
   "outputs": [
    {
     "data": {
      "text/plain": [
       "'\\n1.AND \\n2.NOT\\n3.OR\\n4.XOR'"
      ]
     },
     "execution_count": 32,
     "metadata": {},
     "output_type": "execute_result"
    }
   ],
   "source": [
    "### Q.3. List the logical operators.\n",
    "#Ans:\n",
    "# Following are the list of logical operators used in python.\n",
    "\"\"\"\n",
    "1.AND \n",
    "2.NOT\n",
    "3.OR\n",
    "4.XOR\"\"\""
   ]
  },
  {
   "cell_type": "code",
   "execution_count": 45,
   "id": "0953d40c",
   "metadata": {},
   "outputs": [
    {
     "data": {
      "text/plain": [
       "' example:\\n    x = 5 # binary: 101\\n    shifted = x << 2\\n    print(shifted)\\n    ouput = 20 (binary: 10100)'"
      ]
     },
     "execution_count": 45,
     "metadata": {},
     "output_type": "execute_result"
    }
   ],
   "source": [
    "### Q.4. Explain right shift operator and left shift operator with examples.\n",
    "#Ans:\n",
    "# (i): right shift operator(>>):\n",
    "    # >> is used in binary code operations, with the help of this operator,position of pointer moves to right side of the binary code with  points.\n",
    "    # >> after this operator we pass number of positions we want to move.\n",
    "\"\"\" example: x=8 [1000]\n",
    "               shifted = x >> 3\n",
    "               print(shifted) # Output:1[binary of 1 = 1 or 001]  \"\"\" \n",
    "            \n",
    "# (ii): left shift operator(<<):\n",
    "    # << is used in binary code operations, with the help of this operator ,position of pointer move to left side of the binary code with points.\n",
    "    # << after this operator we pass the number of positions we want to move.\n",
    "\"\"\" example:\n",
    "    x = 5 # binary: 101\n",
    "    shifted = x << 2\n",
    "    print(shifted)\n",
    "    ouput = 20 (binary: 10100)\"\"\"\n",
    "    \n"
   ]
  },
  {
   "cell_type": "code",
   "execution_count": 41,
   "id": "0ec13022",
   "metadata": {},
   "outputs": [
    {
     "name": "stdout",
     "output_type": "stream",
     "text": [
      "[0, 1, 2, 3, 4, 5, 6, 7, 8, 9, 10, 11, 12, 13, 14]\n"
     ]
    },
    {
     "data": {
      "text/plain": [
       "True"
      ]
     },
     "execution_count": 41,
     "metadata": {},
     "output_type": "execute_result"
    }
   ],
   "source": [
    "### Q.5. Create a list containing int type data of length 15.\n",
    "#Then write a code to check if 10 is present in the list or not\n",
    "\n",
    "#Ans:\n",
    "# first we create a list which contains o to 14 numbers in order.\n",
    "l=list(range(15))\n",
    "# we can use this method or we can type it.\n",
    "print(l)\n",
    "\n",
    "# to check whether the value is available or not in the list, we use 'in' function.\n",
    "\n",
    "10 in l\n",
    "# the output is 'True'. if the value is not in the list then it will give False in a output.\n"
   ]
  }
 ],
 "metadata": {
  "kernelspec": {
   "display_name": "Python 3 (ipykernel)",
   "language": "python",
   "name": "python3"
  },
  "language_info": {
   "codemirror_mode": {
    "name": "ipython",
    "version": 3
   },
   "file_extension": ".py",
   "mimetype": "text/x-python",
   "name": "python",
   "nbconvert_exporter": "python",
   "pygments_lexer": "ipython3",
   "version": "3.10.9"
  }
 },
 "nbformat": 4,
 "nbformat_minor": 5
}
