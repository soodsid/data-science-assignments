{
 "cells": [
  {
   "cell_type": "code",
   "execution_count": null,
   "id": "21fee750",
   "metadata": {},
   "outputs": [],
   "source": [
    "CREATE DATABASE ats\n",
    "    DEFAULT CHARACTER SET = 'utf8mb4';\n",
    "\n",
    "use ats\n",
    "\n",
    "create table ai_tools (id int, tech varchar(30));\n",
    "\n",
    "insert into ai_tools values (1, 'ds');\n",
    "insert into ai_tools values (1, 'tableau');\n",
    "insert into ai_tools values (1, 'sql');\n",
    "insert into ai_tools values (2, 'R');\n",
    "insert into ai_tools values (2, 'power BI');\n",
    "insert into ai_tools values (1, 'python');\n",
    "\n",
    "\n"
   ]
  },
  {
   "cell_type": "code",
   "execution_count": null,
   "id": "38766d6f",
   "metadata": {},
   "outputs": [],
   "source": [
    "ans 1\n",
    "\n",
    "select id from ai_tools where tech='ds' and id in (\n",
    "    SELECT id from ai_tools where tech='tableau' and id in (\n",
    "        SELECT id from ai_tools where tech='sql' and id in (\n",
    "            SELECT id from ai_tools where tech='python')));\n"
   ]
  },
  {
   "cell_type": "code",
   "execution_count": null,
   "id": "434a655d",
   "metadata": {},
   "outputs": [],
   "source": [
    "\n",
    "create table prodinfo (prid int, name varchar(30));\n",
    "\n",
    "insert into prodinfo values (1001, 'Blog');\n",
    "insert into prodinfo values (1002, 'youtube');\n",
    "insert into prodinfo values (1003, 'education');\n",
    "\n",
    "create table prodlikes (id int, prid int, likeddate date);\n",
    "\n",
    "insert into prodlikes values (1,1001,'2023-8-19');\n",
    "insert into prodlikes values (2,1003,'2023-8-18');\n",
    "\n",
    "\n"
   ]
  },
  {
   "cell_type": "code",
   "execution_count": null,
   "id": "405fa8a4",
   "metadata": {},
   "outputs": [],
   "source": [
    "ans 2\n",
    "select * from prodinfo where prid not in (select prid from prodlikes)\n"
   ]
  },
  {
   "cell_type": "code",
   "execution_count": null,
   "id": "db2e1f14",
   "metadata": {},
   "outputs": [],
   "source": []
  }
 ],
 "metadata": {
  "kernelspec": {
   "display_name": "Python 3 (ipykernel)",
   "language": "python",
   "name": "python3"
  },
  "language_info": {
   "codemirror_mode": {
    "name": "ipython",
    "version": 3
   },
   "file_extension": ".py",
   "mimetype": "text/x-python",
   "name": "python",
   "nbconvert_exporter": "python",
   "pygments_lexer": "ipython3",
   "version": "3.10.9"
  }
 },
 "nbformat": 4,
 "nbformat_minor": 5
}
